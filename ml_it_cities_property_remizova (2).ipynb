{
  "nbformat": 4,
  "nbformat_minor": 0,
  "metadata": {
    "colab": {
      "provenance": [],
      "toc_visible": true
    },
    "kernelspec": {
      "name": "python3",
      "display_name": "Python 3"
    },
    "language_info": {
      "name": "python"
    }
  },
  "cells": [
    {
      "cell_type": "code",
      "execution_count": 2,
      "metadata": {
        "id": "d6KVQJ684XRy"
      },
      "outputs": [],
      "source": [
        "import numpy as np # Одномерные и многомерные массивы (array)\n",
        "import pandas as pd # Таблицы и временные ряды (dataframe, series)\n",
        "import seaborn as sns # Графика для визуализации данных\n",
        "import matplotlib.pyplot as plt # Научная графика\n",
        "from sklearn.impute import SimpleImputer\n",
        "from sklearn.preprocessing import LabelEncoder, Normalizer, normalize\n",
        "from sklearn.model_selection import train_test_split\n",
        "from sklearn.neighbors import KNeighborsClassifier\n",
        "from sklearn.ensemble import RandomForestClassifier\n",
        "from sklearn.metrics import accuracy_score, f1_score\n",
        "import sklearn.metrics as metrics\n",
        "from sklearn.model_selection import GridSearchCV\n",
        "from sklearn.metrics import ConfusionMatrixDisplay"
      ]
    },
    {
      "cell_type": "markdown",
      "source": [
        "# 0. Описание задачи\n",
        "Набор данных IT_Cities_Property_Data, содержит комплексную информацию, связанную с недвижимостью, для крупных городов информационных технологий в Индии за 2023 год. Этот набор данных охватывает широкий спектр объектов недвижимости, включая жилье для платящих гостей (PG), комнаты и квартиры, предоставление ценной информации о рынке недвижимости этих развивающихся технологических центров.\n",
        "Определить тип дома арендуемого жилья\n",
        "\n",
        "# 1. Загрузка данных¶"
      ],
      "metadata": {
        "id": "eilqnuhy8YN8"
      }
    },
    {
      "cell_type": "code",
      "source": [
        "url = 'https://raw.githubusercontent.com/Remizovatonya/machine-learning/main/IT_Cities_Property_Data.csv'\n",
        "data_raw = pd.read_csv(url)"
      ],
      "metadata": {
        "id": "LQAcu1Bq9IFA"
      },
      "execution_count": 69,
      "outputs": []
    },
    {
      "cell_type": "markdown",
      "source": [
        "Первый и последние значения из таблицы данных"
      ],
      "metadata": {
        "id": "f7jmgPgN9M8k"
      }
    },
    {
      "cell_type": "code",
      "source": [
        "data_raw.head()"
      ],
      "metadata": {
        "colab": {
          "base_uri": "https://localhost:8080/",
          "height": 0
        },
        "id": "O7iLWHBb9Sln",
        "outputId": "a6926eed-c567-414b-d6cc-beefdb79f7c9"
      },
      "execution_count": 70,
      "outputs": [
        {
          "output_type": "execute_result",
          "data": {
            "text/plain": [
              "       id  establishedYear                           title       city  \\\n",
              "0    3814              NaN           102 Dhawale Residency       pune   \n",
              "1   11845              NaN           R K Plaza Flat No 202  hyderabad   \n",
              "2  340222           2010.0  Satyam shivam_sion chunabhatti     mumbai   \n",
              "3  260247           2021.0        Kandula Vaidehi Nest_203  Bengaluru   \n",
              "4  355316           2023.0               HNR Apartment-402  bengaluru   \n",
              "\n",
              "                                         description                houseType  \\\n",
              "0  Located at Dhavale Vasti, Pune, this cosy 2 BH...  Gated Society Apartment   \n",
              "1  Looking for a charming 2 BHK independent house...        Independent House   \n",
              "2  Located at Chuna Bhatti, Mumbai, this cosy 4 B...    Independent Apartment   \n",
              "3  This spacious semi_furnished 1 BHK apartment f...                Apartment   \n",
              "4  This comfortable 1 BHK semi_furnished, house i...    Independent Apartment   \n",
              "\n",
              "  bhkType        address  shared  bedAvailable  ...  area(sq-fit)  \\\n",
              "0   2 BHK       ghorpadi       4             0  ...          1100   \n",
              "1   2 BHK     kukatpally       4             0  ...          1400   \n",
              "2   4 BHK      sion west       4             0  ...          1200   \n",
              "3   1 BHK  Murugeshpalya       1             0  ...           600   \n",
              "4   1 BHK      mathikere       1             0  ...           500   \n",
              "\n",
              "  bathroomCount   furnishingType  \\\n",
              "0             1  fully_furnished   \n",
              "1             1  fully_furnished   \n",
              "2             2  fully_furnished   \n",
              "3             1   semi_furnished   \n",
              "4             1   semi_furnished   \n",
              "\n",
              "                                          facilities  minRent(Rs)  \\\n",
              "0                                       ['Security']         5886   \n",
              "1                ['Washing Machine', 'Fridge', 'Tv']         8550   \n",
              "2  ['AC', 'Power Backup', 'Security', 'Washing Ma...        22250   \n",
              "3                                                 []        19000   \n",
              "4                                                 []        10000   \n",
              "\n",
              "  minRoomRent(Rs) minRoomAdvance(Rs)        lat       long  available_from  \n",
              "0           12686              25372  18.526085  73.908905      2023-10-10  \n",
              "1           16100              32200  17.499052  78.392693      2023-11-14  \n",
              "2           22250              77875  19.052172  72.875252      2023-10-10  \n",
              "3           19000              57000  12.958700  77.655403      2023-10-07  \n",
              "4           10000              60000  13.036417  77.557220      2023-10-07  \n",
              "\n",
              "[5 rows x 23 columns]"
            ],
            "text/html": [
              "\n",
              "  <div id=\"df-7b235e5d-aad5-42cc-9835-12bdb07d579e\" class=\"colab-df-container\">\n",
              "    <div>\n",
              "<style scoped>\n",
              "    .dataframe tbody tr th:only-of-type {\n",
              "        vertical-align: middle;\n",
              "    }\n",
              "\n",
              "    .dataframe tbody tr th {\n",
              "        vertical-align: top;\n",
              "    }\n",
              "\n",
              "    .dataframe thead th {\n",
              "        text-align: right;\n",
              "    }\n",
              "</style>\n",
              "<table border=\"1\" class=\"dataframe\">\n",
              "  <thead>\n",
              "    <tr style=\"text-align: right;\">\n",
              "      <th></th>\n",
              "      <th>id</th>\n",
              "      <th>establishedYear</th>\n",
              "      <th>title</th>\n",
              "      <th>city</th>\n",
              "      <th>description</th>\n",
              "      <th>houseType</th>\n",
              "      <th>bhkType</th>\n",
              "      <th>address</th>\n",
              "      <th>shared</th>\n",
              "      <th>bedAvailable</th>\n",
              "      <th>...</th>\n",
              "      <th>area(sq-fit)</th>\n",
              "      <th>bathroomCount</th>\n",
              "      <th>furnishingType</th>\n",
              "      <th>facilities</th>\n",
              "      <th>minRent(Rs)</th>\n",
              "      <th>minRoomRent(Rs)</th>\n",
              "      <th>minRoomAdvance(Rs)</th>\n",
              "      <th>lat</th>\n",
              "      <th>long</th>\n",
              "      <th>available_from</th>\n",
              "    </tr>\n",
              "  </thead>\n",
              "  <tbody>\n",
              "    <tr>\n",
              "      <th>0</th>\n",
              "      <td>3814</td>\n",
              "      <td>NaN</td>\n",
              "      <td>102 Dhawale Residency</td>\n",
              "      <td>pune</td>\n",
              "      <td>Located at Dhavale Vasti, Pune, this cosy 2 BH...</td>\n",
              "      <td>Gated Society Apartment</td>\n",
              "      <td>2 BHK</td>\n",
              "      <td>ghorpadi</td>\n",
              "      <td>4</td>\n",
              "      <td>0</td>\n",
              "      <td>...</td>\n",
              "      <td>1100</td>\n",
              "      <td>1</td>\n",
              "      <td>fully_furnished</td>\n",
              "      <td>['Security']</td>\n",
              "      <td>5886</td>\n",
              "      <td>12686</td>\n",
              "      <td>25372</td>\n",
              "      <td>18.526085</td>\n",
              "      <td>73.908905</td>\n",
              "      <td>2023-10-10</td>\n",
              "    </tr>\n",
              "    <tr>\n",
              "      <th>1</th>\n",
              "      <td>11845</td>\n",
              "      <td>NaN</td>\n",
              "      <td>R K Plaza Flat No 202</td>\n",
              "      <td>hyderabad</td>\n",
              "      <td>Looking for a charming 2 BHK independent house...</td>\n",
              "      <td>Independent House</td>\n",
              "      <td>2 BHK</td>\n",
              "      <td>kukatpally</td>\n",
              "      <td>4</td>\n",
              "      <td>0</td>\n",
              "      <td>...</td>\n",
              "      <td>1400</td>\n",
              "      <td>1</td>\n",
              "      <td>fully_furnished</td>\n",
              "      <td>['Washing Machine', 'Fridge', 'Tv']</td>\n",
              "      <td>8550</td>\n",
              "      <td>16100</td>\n",
              "      <td>32200</td>\n",
              "      <td>17.499052</td>\n",
              "      <td>78.392693</td>\n",
              "      <td>2023-11-14</td>\n",
              "    </tr>\n",
              "    <tr>\n",
              "      <th>2</th>\n",
              "      <td>340222</td>\n",
              "      <td>2010.0</td>\n",
              "      <td>Satyam shivam_sion chunabhatti</td>\n",
              "      <td>mumbai</td>\n",
              "      <td>Located at Chuna Bhatti, Mumbai, this cosy 4 B...</td>\n",
              "      <td>Independent Apartment</td>\n",
              "      <td>4 BHK</td>\n",
              "      <td>sion west</td>\n",
              "      <td>4</td>\n",
              "      <td>0</td>\n",
              "      <td>...</td>\n",
              "      <td>1200</td>\n",
              "      <td>2</td>\n",
              "      <td>fully_furnished</td>\n",
              "      <td>['AC', 'Power Backup', 'Security', 'Washing Ma...</td>\n",
              "      <td>22250</td>\n",
              "      <td>22250</td>\n",
              "      <td>77875</td>\n",
              "      <td>19.052172</td>\n",
              "      <td>72.875252</td>\n",
              "      <td>2023-10-10</td>\n",
              "    </tr>\n",
              "    <tr>\n",
              "      <th>3</th>\n",
              "      <td>260247</td>\n",
              "      <td>2021.0</td>\n",
              "      <td>Kandula Vaidehi Nest_203</td>\n",
              "      <td>Bengaluru</td>\n",
              "      <td>This spacious semi_furnished 1 BHK apartment f...</td>\n",
              "      <td>Apartment</td>\n",
              "      <td>1 BHK</td>\n",
              "      <td>Murugeshpalya</td>\n",
              "      <td>1</td>\n",
              "      <td>0</td>\n",
              "      <td>...</td>\n",
              "      <td>600</td>\n",
              "      <td>1</td>\n",
              "      <td>semi_furnished</td>\n",
              "      <td>[]</td>\n",
              "      <td>19000</td>\n",
              "      <td>19000</td>\n",
              "      <td>57000</td>\n",
              "      <td>12.958700</td>\n",
              "      <td>77.655403</td>\n",
              "      <td>2023-10-07</td>\n",
              "    </tr>\n",
              "    <tr>\n",
              "      <th>4</th>\n",
              "      <td>355316</td>\n",
              "      <td>2023.0</td>\n",
              "      <td>HNR Apartment-402</td>\n",
              "      <td>bengaluru</td>\n",
              "      <td>This comfortable 1 BHK semi_furnished, house i...</td>\n",
              "      <td>Independent Apartment</td>\n",
              "      <td>1 BHK</td>\n",
              "      <td>mathikere</td>\n",
              "      <td>1</td>\n",
              "      <td>0</td>\n",
              "      <td>...</td>\n",
              "      <td>500</td>\n",
              "      <td>1</td>\n",
              "      <td>semi_furnished</td>\n",
              "      <td>[]</td>\n",
              "      <td>10000</td>\n",
              "      <td>10000</td>\n",
              "      <td>60000</td>\n",
              "      <td>13.036417</td>\n",
              "      <td>77.557220</td>\n",
              "      <td>2023-10-07</td>\n",
              "    </tr>\n",
              "  </tbody>\n",
              "</table>\n",
              "<p>5 rows × 23 columns</p>\n",
              "</div>\n",
              "    <div class=\"colab-df-buttons\">\n",
              "\n",
              "  <div class=\"colab-df-container\">\n",
              "    <button class=\"colab-df-convert\" onclick=\"convertToInteractive('df-7b235e5d-aad5-42cc-9835-12bdb07d579e')\"\n",
              "            title=\"Convert this dataframe to an interactive table.\"\n",
              "            style=\"display:none;\">\n",
              "\n",
              "  <svg xmlns=\"http://www.w3.org/2000/svg\" height=\"24px\" viewBox=\"0 -960 960 960\">\n",
              "    <path d=\"M120-120v-720h720v720H120Zm60-500h600v-160H180v160Zm220 220h160v-160H400v160Zm0 220h160v-160H400v160ZM180-400h160v-160H180v160Zm440 0h160v-160H620v160ZM180-180h160v-160H180v160Zm440 0h160v-160H620v160Z\"/>\n",
              "  </svg>\n",
              "    </button>\n",
              "\n",
              "  <style>\n",
              "    .colab-df-container {\n",
              "      display:flex;\n",
              "      gap: 12px;\n",
              "    }\n",
              "\n",
              "    .colab-df-convert {\n",
              "      background-color: #E8F0FE;\n",
              "      border: none;\n",
              "      border-radius: 50%;\n",
              "      cursor: pointer;\n",
              "      display: none;\n",
              "      fill: #1967D2;\n",
              "      height: 32px;\n",
              "      padding: 0 0 0 0;\n",
              "      width: 32px;\n",
              "    }\n",
              "\n",
              "    .colab-df-convert:hover {\n",
              "      background-color: #E2EBFA;\n",
              "      box-shadow: 0px 1px 2px rgba(60, 64, 67, 0.3), 0px 1px 3px 1px rgba(60, 64, 67, 0.15);\n",
              "      fill: #174EA6;\n",
              "    }\n",
              "\n",
              "    .colab-df-buttons div {\n",
              "      margin-bottom: 4px;\n",
              "    }\n",
              "\n",
              "    [theme=dark] .colab-df-convert {\n",
              "      background-color: #3B4455;\n",
              "      fill: #D2E3FC;\n",
              "    }\n",
              "\n",
              "    [theme=dark] .colab-df-convert:hover {\n",
              "      background-color: #434B5C;\n",
              "      box-shadow: 0px 1px 3px 1px rgba(0, 0, 0, 0.15);\n",
              "      filter: drop-shadow(0px 1px 2px rgba(0, 0, 0, 0.3));\n",
              "      fill: #FFFFFF;\n",
              "    }\n",
              "  </style>\n",
              "\n",
              "    <script>\n",
              "      const buttonEl =\n",
              "        document.querySelector('#df-7b235e5d-aad5-42cc-9835-12bdb07d579e button.colab-df-convert');\n",
              "      buttonEl.style.display =\n",
              "        google.colab.kernel.accessAllowed ? 'block' : 'none';\n",
              "\n",
              "      async function convertToInteractive(key) {\n",
              "        const element = document.querySelector('#df-7b235e5d-aad5-42cc-9835-12bdb07d579e');\n",
              "        const dataTable =\n",
              "          await google.colab.kernel.invokeFunction('convertToInteractive',\n",
              "                                                    [key], {});\n",
              "        if (!dataTable) return;\n",
              "\n",
              "        const docLinkHtml = 'Like what you see? Visit the ' +\n",
              "          '<a target=\"_blank\" href=https://colab.research.google.com/notebooks/data_table.ipynb>data table notebook</a>'\n",
              "          + ' to learn more about interactive tables.';\n",
              "        element.innerHTML = '';\n",
              "        dataTable['output_type'] = 'display_data';\n",
              "        await google.colab.output.renderOutput(dataTable, element);\n",
              "        const docLink = document.createElement('div');\n",
              "        docLink.innerHTML = docLinkHtml;\n",
              "        element.appendChild(docLink);\n",
              "      }\n",
              "    </script>\n",
              "  </div>\n",
              "\n",
              "\n",
              "<div id=\"df-6dd8917c-c22c-4809-bcd2-78539cc93591\">\n",
              "  <button class=\"colab-df-quickchart\" onclick=\"quickchart('df-6dd8917c-c22c-4809-bcd2-78539cc93591')\"\n",
              "            title=\"Suggest charts\"\n",
              "            style=\"display:none;\">\n",
              "\n",
              "<svg xmlns=\"http://www.w3.org/2000/svg\" height=\"24px\"viewBox=\"0 0 24 24\"\n",
              "     width=\"24px\">\n",
              "    <g>\n",
              "        <path d=\"M19 3H5c-1.1 0-2 .9-2 2v14c0 1.1.9 2 2 2h14c1.1 0 2-.9 2-2V5c0-1.1-.9-2-2-2zM9 17H7v-7h2v7zm4 0h-2V7h2v10zm4 0h-2v-4h2v4z\"/>\n",
              "    </g>\n",
              "</svg>\n",
              "  </button>\n",
              "\n",
              "<style>\n",
              "  .colab-df-quickchart {\n",
              "      --bg-color: #E8F0FE;\n",
              "      --fill-color: #1967D2;\n",
              "      --hover-bg-color: #E2EBFA;\n",
              "      --hover-fill-color: #174EA6;\n",
              "      --disabled-fill-color: #AAA;\n",
              "      --disabled-bg-color: #DDD;\n",
              "  }\n",
              "\n",
              "  [theme=dark] .colab-df-quickchart {\n",
              "      --bg-color: #3B4455;\n",
              "      --fill-color: #D2E3FC;\n",
              "      --hover-bg-color: #434B5C;\n",
              "      --hover-fill-color: #FFFFFF;\n",
              "      --disabled-bg-color: #3B4455;\n",
              "      --disabled-fill-color: #666;\n",
              "  }\n",
              "\n",
              "  .colab-df-quickchart {\n",
              "    background-color: var(--bg-color);\n",
              "    border: none;\n",
              "    border-radius: 50%;\n",
              "    cursor: pointer;\n",
              "    display: none;\n",
              "    fill: var(--fill-color);\n",
              "    height: 32px;\n",
              "    padding: 0;\n",
              "    width: 32px;\n",
              "  }\n",
              "\n",
              "  .colab-df-quickchart:hover {\n",
              "    background-color: var(--hover-bg-color);\n",
              "    box-shadow: 0 1px 2px rgba(60, 64, 67, 0.3), 0 1px 3px 1px rgba(60, 64, 67, 0.15);\n",
              "    fill: var(--button-hover-fill-color);\n",
              "  }\n",
              "\n",
              "  .colab-df-quickchart-complete:disabled,\n",
              "  .colab-df-quickchart-complete:disabled:hover {\n",
              "    background-color: var(--disabled-bg-color);\n",
              "    fill: var(--disabled-fill-color);\n",
              "    box-shadow: none;\n",
              "  }\n",
              "\n",
              "  .colab-df-spinner {\n",
              "    border: 2px solid var(--fill-color);\n",
              "    border-color: transparent;\n",
              "    border-bottom-color: var(--fill-color);\n",
              "    animation:\n",
              "      spin 1s steps(1) infinite;\n",
              "  }\n",
              "\n",
              "  @keyframes spin {\n",
              "    0% {\n",
              "      border-color: transparent;\n",
              "      border-bottom-color: var(--fill-color);\n",
              "      border-left-color: var(--fill-color);\n",
              "    }\n",
              "    20% {\n",
              "      border-color: transparent;\n",
              "      border-left-color: var(--fill-color);\n",
              "      border-top-color: var(--fill-color);\n",
              "    }\n",
              "    30% {\n",
              "      border-color: transparent;\n",
              "      border-left-color: var(--fill-color);\n",
              "      border-top-color: var(--fill-color);\n",
              "      border-right-color: var(--fill-color);\n",
              "    }\n",
              "    40% {\n",
              "      border-color: transparent;\n",
              "      border-right-color: var(--fill-color);\n",
              "      border-top-color: var(--fill-color);\n",
              "    }\n",
              "    60% {\n",
              "      border-color: transparent;\n",
              "      border-right-color: var(--fill-color);\n",
              "    }\n",
              "    80% {\n",
              "      border-color: transparent;\n",
              "      border-right-color: var(--fill-color);\n",
              "      border-bottom-color: var(--fill-color);\n",
              "    }\n",
              "    90% {\n",
              "      border-color: transparent;\n",
              "      border-bottom-color: var(--fill-color);\n",
              "    }\n",
              "  }\n",
              "</style>\n",
              "\n",
              "  <script>\n",
              "    async function quickchart(key) {\n",
              "      const quickchartButtonEl =\n",
              "        document.querySelector('#' + key + ' button');\n",
              "      quickchartButtonEl.disabled = true;  // To prevent multiple clicks.\n",
              "      quickchartButtonEl.classList.add('colab-df-spinner');\n",
              "      try {\n",
              "        const charts = await google.colab.kernel.invokeFunction(\n",
              "            'suggestCharts', [key], {});\n",
              "      } catch (error) {\n",
              "        console.error('Error during call to suggestCharts:', error);\n",
              "      }\n",
              "      quickchartButtonEl.classList.remove('colab-df-spinner');\n",
              "      quickchartButtonEl.classList.add('colab-df-quickchart-complete');\n",
              "    }\n",
              "    (() => {\n",
              "      let quickchartButtonEl =\n",
              "        document.querySelector('#df-6dd8917c-c22c-4809-bcd2-78539cc93591 button');\n",
              "      quickchartButtonEl.style.display =\n",
              "        google.colab.kernel.accessAllowed ? 'block' : 'none';\n",
              "    })();\n",
              "  </script>\n",
              "</div>\n",
              "    </div>\n",
              "  </div>\n"
            ]
          },
          "metadata": {},
          "execution_count": 70
        }
      ]
    },
    {
      "cell_type": "code",
      "source": [
        "data_raw.tail()"
      ],
      "metadata": {
        "colab": {
          "base_uri": "https://localhost:8080/",
          "height": 0
        },
        "id": "YJCJsKtX9aoG",
        "outputId": "faadf292-efee-479a-86f7-f93a24f0d91d"
      },
      "execution_count": 71,
      "outputs": [
        {
          "output_type": "execute_result",
          "data": {
            "text/plain": [
              "          id  establishedYear                      title       city  \\\n",
              "1868  303764           2020.0         Leha residency_101  hyderabad   \n",
              "1869  253431           2009.0          Hritik house_2BHK     indore   \n",
              "1870  269421           2015.0  Dipesh House_Lajpat Nagar   newdelhi   \n",
              "1871  337604           2015.0                 Desai Nest     mumbai   \n",
              "1872  169997              NaN          Narendra Nest F07  hyderabad   \n",
              "\n",
              "                                            description  \\\n",
              "1868  This comfortable 3 BHK fully_furnished, house ...   \n",
              "1869  This spacious semi_furnished 2 BHK independent...   \n",
              "1870  Looking for a spacious 2 BHK independent house...   \n",
              "1871  This comfortable 3 BHK fully_furnished, house ...   \n",
              "1872  Looking for a quiet STUDIO studio house for bo...   \n",
              "\n",
              "                  houseType bhkType         address  shared  bedAvailable  \\\n",
              "1868      Independent House   3 BHK      gachibowli       3             0   \n",
              "1869      Independent House   2 BHK     hilink city       2             0   \n",
              "1870      Independent House   2 BHK  lajpat nagar 1       2             0   \n",
              "1871  Independent Apartment   3 BHK    andheri west       3             0   \n",
              "1872                 Studio  STUDIO             NaN       1             1   \n",
              "\n",
              "      ...  area(sq-fit) bathroomCount   furnishingType  \\\n",
              "1868  ...          1800             3  fully_furnished   \n",
              "1869  ...           900             2   semi_furnished   \n",
              "1870  ...          1200             1   semi_furnished   \n",
              "1871  ...          1300             3  fully_furnished   \n",
              "1872  ...           225             1   semi_furnished   \n",
              "\n",
              "                                             facilities  minRent(Rs)  \\\n",
              "1868                      ['Washing Machine', 'Fridge']        16000   \n",
              "1869                                                 []         6000   \n",
              "1870                                                 []        20450   \n",
              "1871  ['AC', 'Security', 'Washing Machine', 'Fridge'...        46666   \n",
              "1872                                                 []        10000   \n",
              "\n",
              "     minRoomRent(Rs) minRoomAdvance(Rs)        lat       long  available_from  \n",
              "1868           16000              32000  17.439747  78.329826      2023-10-07  \n",
              "1869            6000              30000  22.741608  75.804863      2023-10-07  \n",
              "1870           20450              20450  28.574446  77.245575      2023-10-07  \n",
              "1871           46666             116665  19.119131  72.842255      2023-10-10  \n",
              "1872           10000              20000  17.483395  78.390640      2023-10-07  \n",
              "\n",
              "[5 rows x 23 columns]"
            ],
            "text/html": [
              "\n",
              "  <div id=\"df-d71a67d5-f475-4c63-af68-094406dbec62\" class=\"colab-df-container\">\n",
              "    <div>\n",
              "<style scoped>\n",
              "    .dataframe tbody tr th:only-of-type {\n",
              "        vertical-align: middle;\n",
              "    }\n",
              "\n",
              "    .dataframe tbody tr th {\n",
              "        vertical-align: top;\n",
              "    }\n",
              "\n",
              "    .dataframe thead th {\n",
              "        text-align: right;\n",
              "    }\n",
              "</style>\n",
              "<table border=\"1\" class=\"dataframe\">\n",
              "  <thead>\n",
              "    <tr style=\"text-align: right;\">\n",
              "      <th></th>\n",
              "      <th>id</th>\n",
              "      <th>establishedYear</th>\n",
              "      <th>title</th>\n",
              "      <th>city</th>\n",
              "      <th>description</th>\n",
              "      <th>houseType</th>\n",
              "      <th>bhkType</th>\n",
              "      <th>address</th>\n",
              "      <th>shared</th>\n",
              "      <th>bedAvailable</th>\n",
              "      <th>...</th>\n",
              "      <th>area(sq-fit)</th>\n",
              "      <th>bathroomCount</th>\n",
              "      <th>furnishingType</th>\n",
              "      <th>facilities</th>\n",
              "      <th>minRent(Rs)</th>\n",
              "      <th>minRoomRent(Rs)</th>\n",
              "      <th>minRoomAdvance(Rs)</th>\n",
              "      <th>lat</th>\n",
              "      <th>long</th>\n",
              "      <th>available_from</th>\n",
              "    </tr>\n",
              "  </thead>\n",
              "  <tbody>\n",
              "    <tr>\n",
              "      <th>1868</th>\n",
              "      <td>303764</td>\n",
              "      <td>2020.0</td>\n",
              "      <td>Leha residency_101</td>\n",
              "      <td>hyderabad</td>\n",
              "      <td>This comfortable 3 BHK fully_furnished, house ...</td>\n",
              "      <td>Independent House</td>\n",
              "      <td>3 BHK</td>\n",
              "      <td>gachibowli</td>\n",
              "      <td>3</td>\n",
              "      <td>0</td>\n",
              "      <td>...</td>\n",
              "      <td>1800</td>\n",
              "      <td>3</td>\n",
              "      <td>fully_furnished</td>\n",
              "      <td>['Washing Machine', 'Fridge']</td>\n",
              "      <td>16000</td>\n",
              "      <td>16000</td>\n",
              "      <td>32000</td>\n",
              "      <td>17.439747</td>\n",
              "      <td>78.329826</td>\n",
              "      <td>2023-10-07</td>\n",
              "    </tr>\n",
              "    <tr>\n",
              "      <th>1869</th>\n",
              "      <td>253431</td>\n",
              "      <td>2009.0</td>\n",
              "      <td>Hritik house_2BHK</td>\n",
              "      <td>indore</td>\n",
              "      <td>This spacious semi_furnished 2 BHK independent...</td>\n",
              "      <td>Independent House</td>\n",
              "      <td>2 BHK</td>\n",
              "      <td>hilink city</td>\n",
              "      <td>2</td>\n",
              "      <td>0</td>\n",
              "      <td>...</td>\n",
              "      <td>900</td>\n",
              "      <td>2</td>\n",
              "      <td>semi_furnished</td>\n",
              "      <td>[]</td>\n",
              "      <td>6000</td>\n",
              "      <td>6000</td>\n",
              "      <td>30000</td>\n",
              "      <td>22.741608</td>\n",
              "      <td>75.804863</td>\n",
              "      <td>2023-10-07</td>\n",
              "    </tr>\n",
              "    <tr>\n",
              "      <th>1870</th>\n",
              "      <td>269421</td>\n",
              "      <td>2015.0</td>\n",
              "      <td>Dipesh House_Lajpat Nagar</td>\n",
              "      <td>newdelhi</td>\n",
              "      <td>Looking for a spacious 2 BHK independent house...</td>\n",
              "      <td>Independent House</td>\n",
              "      <td>2 BHK</td>\n",
              "      <td>lajpat nagar 1</td>\n",
              "      <td>2</td>\n",
              "      <td>0</td>\n",
              "      <td>...</td>\n",
              "      <td>1200</td>\n",
              "      <td>1</td>\n",
              "      <td>semi_furnished</td>\n",
              "      <td>[]</td>\n",
              "      <td>20450</td>\n",
              "      <td>20450</td>\n",
              "      <td>20450</td>\n",
              "      <td>28.574446</td>\n",
              "      <td>77.245575</td>\n",
              "      <td>2023-10-07</td>\n",
              "    </tr>\n",
              "    <tr>\n",
              "      <th>1871</th>\n",
              "      <td>337604</td>\n",
              "      <td>2015.0</td>\n",
              "      <td>Desai Nest</td>\n",
              "      <td>mumbai</td>\n",
              "      <td>This comfortable 3 BHK fully_furnished, house ...</td>\n",
              "      <td>Independent Apartment</td>\n",
              "      <td>3 BHK</td>\n",
              "      <td>andheri west</td>\n",
              "      <td>3</td>\n",
              "      <td>0</td>\n",
              "      <td>...</td>\n",
              "      <td>1300</td>\n",
              "      <td>3</td>\n",
              "      <td>fully_furnished</td>\n",
              "      <td>['AC', 'Security', 'Washing Machine', 'Fridge'...</td>\n",
              "      <td>46666</td>\n",
              "      <td>46666</td>\n",
              "      <td>116665</td>\n",
              "      <td>19.119131</td>\n",
              "      <td>72.842255</td>\n",
              "      <td>2023-10-10</td>\n",
              "    </tr>\n",
              "    <tr>\n",
              "      <th>1872</th>\n",
              "      <td>169997</td>\n",
              "      <td>NaN</td>\n",
              "      <td>Narendra Nest F07</td>\n",
              "      <td>hyderabad</td>\n",
              "      <td>Looking for a quiet STUDIO studio house for bo...</td>\n",
              "      <td>Studio</td>\n",
              "      <td>STUDIO</td>\n",
              "      <td>NaN</td>\n",
              "      <td>1</td>\n",
              "      <td>1</td>\n",
              "      <td>...</td>\n",
              "      <td>225</td>\n",
              "      <td>1</td>\n",
              "      <td>semi_furnished</td>\n",
              "      <td>[]</td>\n",
              "      <td>10000</td>\n",
              "      <td>10000</td>\n",
              "      <td>20000</td>\n",
              "      <td>17.483395</td>\n",
              "      <td>78.390640</td>\n",
              "      <td>2023-10-07</td>\n",
              "    </tr>\n",
              "  </tbody>\n",
              "</table>\n",
              "<p>5 rows × 23 columns</p>\n",
              "</div>\n",
              "    <div class=\"colab-df-buttons\">\n",
              "\n",
              "  <div class=\"colab-df-container\">\n",
              "    <button class=\"colab-df-convert\" onclick=\"convertToInteractive('df-d71a67d5-f475-4c63-af68-094406dbec62')\"\n",
              "            title=\"Convert this dataframe to an interactive table.\"\n",
              "            style=\"display:none;\">\n",
              "\n",
              "  <svg xmlns=\"http://www.w3.org/2000/svg\" height=\"24px\" viewBox=\"0 -960 960 960\">\n",
              "    <path d=\"M120-120v-720h720v720H120Zm60-500h600v-160H180v160Zm220 220h160v-160H400v160Zm0 220h160v-160H400v160ZM180-400h160v-160H180v160Zm440 0h160v-160H620v160ZM180-180h160v-160H180v160Zm440 0h160v-160H620v160Z\"/>\n",
              "  </svg>\n",
              "    </button>\n",
              "\n",
              "  <style>\n",
              "    .colab-df-container {\n",
              "      display:flex;\n",
              "      gap: 12px;\n",
              "    }\n",
              "\n",
              "    .colab-df-convert {\n",
              "      background-color: #E8F0FE;\n",
              "      border: none;\n",
              "      border-radius: 50%;\n",
              "      cursor: pointer;\n",
              "      display: none;\n",
              "      fill: #1967D2;\n",
              "      height: 32px;\n",
              "      padding: 0 0 0 0;\n",
              "      width: 32px;\n",
              "    }\n",
              "\n",
              "    .colab-df-convert:hover {\n",
              "      background-color: #E2EBFA;\n",
              "      box-shadow: 0px 1px 2px rgba(60, 64, 67, 0.3), 0px 1px 3px 1px rgba(60, 64, 67, 0.15);\n",
              "      fill: #174EA6;\n",
              "    }\n",
              "\n",
              "    .colab-df-buttons div {\n",
              "      margin-bottom: 4px;\n",
              "    }\n",
              "\n",
              "    [theme=dark] .colab-df-convert {\n",
              "      background-color: #3B4455;\n",
              "      fill: #D2E3FC;\n",
              "    }\n",
              "\n",
              "    [theme=dark] .colab-df-convert:hover {\n",
              "      background-color: #434B5C;\n",
              "      box-shadow: 0px 1px 3px 1px rgba(0, 0, 0, 0.15);\n",
              "      filter: drop-shadow(0px 1px 2px rgba(0, 0, 0, 0.3));\n",
              "      fill: #FFFFFF;\n",
              "    }\n",
              "  </style>\n",
              "\n",
              "    <script>\n",
              "      const buttonEl =\n",
              "        document.querySelector('#df-d71a67d5-f475-4c63-af68-094406dbec62 button.colab-df-convert');\n",
              "      buttonEl.style.display =\n",
              "        google.colab.kernel.accessAllowed ? 'block' : 'none';\n",
              "\n",
              "      async function convertToInteractive(key) {\n",
              "        const element = document.querySelector('#df-d71a67d5-f475-4c63-af68-094406dbec62');\n",
              "        const dataTable =\n",
              "          await google.colab.kernel.invokeFunction('convertToInteractive',\n",
              "                                                    [key], {});\n",
              "        if (!dataTable) return;\n",
              "\n",
              "        const docLinkHtml = 'Like what you see? Visit the ' +\n",
              "          '<a target=\"_blank\" href=https://colab.research.google.com/notebooks/data_table.ipynb>data table notebook</a>'\n",
              "          + ' to learn more about interactive tables.';\n",
              "        element.innerHTML = '';\n",
              "        dataTable['output_type'] = 'display_data';\n",
              "        await google.colab.output.renderOutput(dataTable, element);\n",
              "        const docLink = document.createElement('div');\n",
              "        docLink.innerHTML = docLinkHtml;\n",
              "        element.appendChild(docLink);\n",
              "      }\n",
              "    </script>\n",
              "  </div>\n",
              "\n",
              "\n",
              "<div id=\"df-ce96ca1e-136e-4fc9-a6aa-f46a8c73902e\">\n",
              "  <button class=\"colab-df-quickchart\" onclick=\"quickchart('df-ce96ca1e-136e-4fc9-a6aa-f46a8c73902e')\"\n",
              "            title=\"Suggest charts\"\n",
              "            style=\"display:none;\">\n",
              "\n",
              "<svg xmlns=\"http://www.w3.org/2000/svg\" height=\"24px\"viewBox=\"0 0 24 24\"\n",
              "     width=\"24px\">\n",
              "    <g>\n",
              "        <path d=\"M19 3H5c-1.1 0-2 .9-2 2v14c0 1.1.9 2 2 2h14c1.1 0 2-.9 2-2V5c0-1.1-.9-2-2-2zM9 17H7v-7h2v7zm4 0h-2V7h2v10zm4 0h-2v-4h2v4z\"/>\n",
              "    </g>\n",
              "</svg>\n",
              "  </button>\n",
              "\n",
              "<style>\n",
              "  .colab-df-quickchart {\n",
              "      --bg-color: #E8F0FE;\n",
              "      --fill-color: #1967D2;\n",
              "      --hover-bg-color: #E2EBFA;\n",
              "      --hover-fill-color: #174EA6;\n",
              "      --disabled-fill-color: #AAA;\n",
              "      --disabled-bg-color: #DDD;\n",
              "  }\n",
              "\n",
              "  [theme=dark] .colab-df-quickchart {\n",
              "      --bg-color: #3B4455;\n",
              "      --fill-color: #D2E3FC;\n",
              "      --hover-bg-color: #434B5C;\n",
              "      --hover-fill-color: #FFFFFF;\n",
              "      --disabled-bg-color: #3B4455;\n",
              "      --disabled-fill-color: #666;\n",
              "  }\n",
              "\n",
              "  .colab-df-quickchart {\n",
              "    background-color: var(--bg-color);\n",
              "    border: none;\n",
              "    border-radius: 50%;\n",
              "    cursor: pointer;\n",
              "    display: none;\n",
              "    fill: var(--fill-color);\n",
              "    height: 32px;\n",
              "    padding: 0;\n",
              "    width: 32px;\n",
              "  }\n",
              "\n",
              "  .colab-df-quickchart:hover {\n",
              "    background-color: var(--hover-bg-color);\n",
              "    box-shadow: 0 1px 2px rgba(60, 64, 67, 0.3), 0 1px 3px 1px rgba(60, 64, 67, 0.15);\n",
              "    fill: var(--button-hover-fill-color);\n",
              "  }\n",
              "\n",
              "  .colab-df-quickchart-complete:disabled,\n",
              "  .colab-df-quickchart-complete:disabled:hover {\n",
              "    background-color: var(--disabled-bg-color);\n",
              "    fill: var(--disabled-fill-color);\n",
              "    box-shadow: none;\n",
              "  }\n",
              "\n",
              "  .colab-df-spinner {\n",
              "    border: 2px solid var(--fill-color);\n",
              "    border-color: transparent;\n",
              "    border-bottom-color: var(--fill-color);\n",
              "    animation:\n",
              "      spin 1s steps(1) infinite;\n",
              "  }\n",
              "\n",
              "  @keyframes spin {\n",
              "    0% {\n",
              "      border-color: transparent;\n",
              "      border-bottom-color: var(--fill-color);\n",
              "      border-left-color: var(--fill-color);\n",
              "    }\n",
              "    20% {\n",
              "      border-color: transparent;\n",
              "      border-left-color: var(--fill-color);\n",
              "      border-top-color: var(--fill-color);\n",
              "    }\n",
              "    30% {\n",
              "      border-color: transparent;\n",
              "      border-left-color: var(--fill-color);\n",
              "      border-top-color: var(--fill-color);\n",
              "      border-right-color: var(--fill-color);\n",
              "    }\n",
              "    40% {\n",
              "      border-color: transparent;\n",
              "      border-right-color: var(--fill-color);\n",
              "      border-top-color: var(--fill-color);\n",
              "    }\n",
              "    60% {\n",
              "      border-color: transparent;\n",
              "      border-right-color: var(--fill-color);\n",
              "    }\n",
              "    80% {\n",
              "      border-color: transparent;\n",
              "      border-right-color: var(--fill-color);\n",
              "      border-bottom-color: var(--fill-color);\n",
              "    }\n",
              "    90% {\n",
              "      border-color: transparent;\n",
              "      border-bottom-color: var(--fill-color);\n",
              "    }\n",
              "  }\n",
              "</style>\n",
              "\n",
              "  <script>\n",
              "    async function quickchart(key) {\n",
              "      const quickchartButtonEl =\n",
              "        document.querySelector('#' + key + ' button');\n",
              "      quickchartButtonEl.disabled = true;  // To prevent multiple clicks.\n",
              "      quickchartButtonEl.classList.add('colab-df-spinner');\n",
              "      try {\n",
              "        const charts = await google.colab.kernel.invokeFunction(\n",
              "            'suggestCharts', [key], {});\n",
              "      } catch (error) {\n",
              "        console.error('Error during call to suggestCharts:', error);\n",
              "      }\n",
              "      quickchartButtonEl.classList.remove('colab-df-spinner');\n",
              "      quickchartButtonEl.classList.add('colab-df-quickchart-complete');\n",
              "    }\n",
              "    (() => {\n",
              "      let quickchartButtonEl =\n",
              "        document.querySelector('#df-ce96ca1e-136e-4fc9-a6aa-f46a8c73902e button');\n",
              "      quickchartButtonEl.style.display =\n",
              "        google.colab.kernel.accessAllowed ? 'block' : 'none';\n",
              "    })();\n",
              "  </script>\n",
              "</div>\n",
              "    </div>\n",
              "  </div>\n"
            ]
          },
          "metadata": {},
          "execution_count": 71
        }
      ]
    },
    {
      "cell_type": "markdown",
      "source": [
        "Информация о датасете"
      ],
      "metadata": {
        "id": "sEUeRP799dYo"
      }
    },
    {
      "cell_type": "code",
      "source": [
        "print(data_raw.shape)\n",
        "print(data_raw.columns)"
      ],
      "metadata": {
        "colab": {
          "base_uri": "https://localhost:8080/"
        },
        "id": "rttAxy_P9f3Q",
        "outputId": "a0a467eb-5829-415b-f59b-5a56d752a468"
      },
      "execution_count": 72,
      "outputs": [
        {
          "output_type": "stream",
          "name": "stdout",
          "text": [
            "(1873, 23)\n",
            "Index(['id', 'establishedYear', 'title', 'city', 'description', 'houseType',\n",
            "       'bhkType', 'address', 'shared', 'bedAvailable', 'roomAvailable',\n",
            "       'availableFor', 'bookingType', 'area(sq-fit)', 'bathroomCount',\n",
            "       'furnishingType', 'facilities', 'minRent(Rs)', 'minRoomRent(Rs)',\n",
            "       'minRoomAdvance(Rs)', 'lat', 'long', 'available_from'],\n",
            "      dtype='object')\n"
          ]
        }
      ]
    },
    {
      "cell_type": "code",
      "source": [
        "data_raw.info()"
      ],
      "metadata": {
        "colab": {
          "base_uri": "https://localhost:8080/"
        },
        "id": "yxstuGL_9uC6",
        "outputId": "7f10d9b8-f550-4d00-d56d-01f941a9c779"
      },
      "execution_count": 73,
      "outputs": [
        {
          "output_type": "stream",
          "name": "stdout",
          "text": [
            "<class 'pandas.core.frame.DataFrame'>\n",
            "RangeIndex: 1873 entries, 0 to 1872\n",
            "Data columns (total 23 columns):\n",
            " #   Column              Non-Null Count  Dtype  \n",
            "---  ------              --------------  -----  \n",
            " 0   id                  1873 non-null   int64  \n",
            " 1   establishedYear     1312 non-null   float64\n",
            " 2   title               1871 non-null   object \n",
            " 3   city                1873 non-null   object \n",
            " 4   description         1873 non-null   object \n",
            " 5   houseType           1872 non-null   object \n",
            " 6   bhkType             1860 non-null   object \n",
            " 7   address             1864 non-null   object \n",
            " 8   shared              1873 non-null   int64  \n",
            " 9   bedAvailable        1873 non-null   int64  \n",
            " 10  roomAvailable       1873 non-null   int64  \n",
            " 11  availableFor        1873 non-null   object \n",
            " 12  bookingType         1850 non-null   object \n",
            " 13  area(sq-fit)        1873 non-null   int64  \n",
            " 14  bathroomCount       1873 non-null   int64  \n",
            " 15  furnishingType      1873 non-null   object \n",
            " 16  facilities          1873 non-null   object \n",
            " 17  minRent(Rs)         1873 non-null   int64  \n",
            " 18  minRoomRent(Rs)     1873 non-null   int64  \n",
            " 19  minRoomAdvance(Rs)  1873 non-null   int64  \n",
            " 20  lat                 1873 non-null   float64\n",
            " 21  long                1873 non-null   float64\n",
            " 22  available_from      1866 non-null   object \n",
            "dtypes: float64(3), int64(9), object(11)\n",
            "memory usage: 336.7+ KB\n"
          ]
        }
      ]
    },
    {
      "cell_type": "markdown",
      "source": [
        "Описание столбцов:\n",
        "\n",
        "\n",
        "\n",
        "*   id - уникальный идентификатор (категориальный)\n",
        "*   establishedYear - год постройки (категориальный)\n",
        "*   title - название жилья, сдающегося в аренду (категориальный)\n",
        "*   city - город, в котором находится постройка (категориальный)\n",
        "*   description - описание жилья арендодателем (текстовый)\n",
        "*   houseType - тип дома (категориальный)\n",
        "*   bhkType - тип квартиры (категориальный)\n",
        "*   address - населенный пункт (категориальный)\n",
        "*   shared - количество людей, имеющих возможность расположиться в арендованном\n",
        "*   жилье (количественный)\n",
        "*   bedAvailable - кровати, доступные под аренду (количественный)\n",
        "*   roomAvailable - комнаты, доступные под аренду (количественный)\n",
        "*   availableFor - доступность по половому признаку или для семей (категориальный)\n",
        "*   bookingType - тип аренды (категориальный)\n",
        "*   area(sq-fit) - площадь помещения (количественный)\n",
        "*   bathroomCount - количество ванных комнат (количественный)\n",
        "*   furnishingType - наличие мебели (категориальный)\n",
        "*   facilities - удобства (текстовый)\n",
        "*   minRent(Rs) - минимальная арендная плата (рупии) (количественный)\n",
        "*   minRoomRent(Rs) - минимальная арендная плата за комнату (рупии) (количественный)\n",
        "*   minRoomAdvance(Rs) - минимальная предоплата за комнату (рупии) (количественный)\n",
        "*   lat - широта (количественный)\n",
        "*   long - долгота (количественный)\n",
        "*   available_from - дата освобождения жилья (категориальный)\n",
        "\n",
        "\n",
        "\n",
        "\n",
        "\n",
        "\n",
        "\n"
      ],
      "metadata": {
        "id": "RfVBxg0D97Ed"
      }
    },
    {
      "cell_type": "markdown",
      "source": [
        "# 2. Визуализация данных и вычисление основных характеристик (среднее, разброс, корреляционную матрицу и т.д.). Интерпретация полученных результатов.\n",
        "Выведем все диаграммы рассеивания для количественных признаков."
      ],
      "metadata": {
        "id": "e1cjpeRa-e3x"
      }
    },
    {
      "cell_type": "code",
      "source": [
        "df = data_raw[['shared', 'bedAvailable', 'area(sq-fit)', 'bathroomCount', 'minRent(Rs)', 'minRoomRent(Rs)']].copy()\n",
        "pd.plotting.scatter_matrix(df, figsize = (10, 10), alpha = 0.05)\n",
        "pass"
      ],
      "metadata": {
        "colab": {
          "base_uri": "https://localhost:8080/",
          "height": 872
        },
        "id": "cNpDlQEY-hy2",
        "outputId": "24a4190a-26da-4c22-b011-b36b86553d17"
      },
      "execution_count": 74,
      "outputs": [
        {
          "output_type": "display_data",
          "data": {
            "text/plain": [
              "<Figure size 1000x1000 with 36 Axes>"
            ],
            "image/png": "[encoded data removed]"
          },
          "metadata": {}
        }
      ]
    },
    {
      "cell_type": "markdown",
      "source": [
        "Рассмотрим соотношение классов (признак houseType)"
      ],
      "metadata": {
        "id": "k-MB3aF7-lz4"
      }
    },
    {
      "cell_type": "code",
      "source": [
        "fig, ax = plt.subplots(figsize=(10,10))\n",
        "sns.countplot(y=data_raw['houseType'])\n",
        "plt.xticks(rotation=45)\n",
        "plt.show()"
      ],
      "metadata": {
        "colab": {
          "base_uri": "https://localhost:8080/",
          "height": 864
        },
        "id": "QjNz4y4H-mgT",
        "outputId": "84b3600d-dd1a-47f7-842f-68e786f16d56"
      },
      "execution_count": 75,
      "outputs": [
        {
          "output_type": "display_data",
          "data": {
            "text/plain": [
              "<Figure size 1000x1000 with 1 Axes>"
            ],
            "image/png": "[encoded data removed]"
          },
          "metadata": {}
        }
      ]
    },
    {
      "cell_type": "markdown",
      "source": [
        "Из гистограммы видно, что классы несбалансированы - найдём их точное соотношение."
      ],
      "metadata": {
        "id": "044iwt8K-1xM"
      }
    },
    {
      "cell_type": "code",
      "source": [
        "data_raw['houseType'].value_counts()"
      ],
      "metadata": {
        "colab": {
          "base_uri": "https://localhost:8080/"
        },
        "id": "-AqtnWVq-3Vu",
        "outputId": "2c8b14ab-1e8d-4733-9e83-098e7edfe76c"
      },
      "execution_count": 76,
      "outputs": [
        {
          "output_type": "execute_result",
          "data": {
            "text/plain": [
              "Independent Apartment      917\n",
              "Independent House          468\n",
              "Gated Society Apartment    447\n",
              "Independent Villa           15\n",
              "Apartment                   12\n",
              "Gated Society Villa          9\n",
              "Studio                       4\n",
              "Name: houseType, dtype: int64"
            ]
          },
          "metadata": {},
          "execution_count": 76
        }
      ]
    },
    {
      "cell_type": "code",
      "source": [
        "data_raw['houseType'].value_counts()[0] / (data_raw['houseType'].value_counts()[0] + data_raw['houseType'].value_counts()[1]\n",
        "                                           + data_raw['houseType'].value_counts()[2] + data_raw['houseType'].value_counts()[3]\n",
        "                                           + data_raw['houseType'].value_counts()[4] + data_raw['houseType'].value_counts()[5]\n",
        "                                           + data_raw['houseType'].value_counts()[6]) * 100"
      ],
      "metadata": {
        "colab": {
          "base_uri": "https://localhost:8080/"
        },
        "id": "VXtJwn-H-9P6",
        "outputId": "86da1124-d24e-4f9d-ab9d-1572fdf0621f"
      },
      "execution_count": 77,
      "outputs": [
        {
          "output_type": "execute_result",
          "data": {
            "text/plain": [
              "48.98504273504273"
            ]
          },
          "metadata": {},
          "execution_count": 77
        }
      ]
    },
    {
      "cell_type": "code",
      "source": [
        "data_raw['houseType'].value_counts()[1] / (data_raw['houseType'].value_counts()[0] + data_raw['houseType'].value_counts()[1]\n",
        "                                           + data_raw['houseType'].value_counts()[2] + data_raw['houseType'].value_counts()[3]\n",
        "                                           + data_raw['houseType'].value_counts()[4] + data_raw['houseType'].value_counts()[5]\n",
        "                                           + data_raw['houseType'].value_counts()[6]) * 100"
      ],
      "metadata": {
        "colab": {
          "base_uri": "https://localhost:8080/"
        },
        "id": "M2YLkTlP-_3X",
        "outputId": "17dcd339-dcc0-4f69-bcb5-53b04bb60853"
      },
      "execution_count": 78,
      "outputs": [
        {
          "output_type": "execute_result",
          "data": {
            "text/plain": [
              "25.0"
            ]
          },
          "metadata": {},
          "execution_count": 78
        }
      ]
    },
    {
      "cell_type": "code",
      "source": [
        "data_raw['houseType'].value_counts()[2] / (data_raw['houseType'].value_counts()[0] + data_raw['houseType'].value_counts()[1]\n",
        "                                           + data_raw['houseType'].value_counts()[2] + data_raw['houseType'].value_counts()[3]\n",
        "                                           + data_raw['houseType'].value_counts()[4] + data_raw['houseType'].value_counts()[5]\n",
        "                                           + data_raw['houseType'].value_counts()[6]) * 100"
      ],
      "metadata": {
        "colab": {
          "base_uri": "https://localhost:8080/"
        },
        "id": "LjQb5FNa_CzG",
        "outputId": "2221898e-843e-4d37-aad3-5937446eada0"
      },
      "execution_count": 79,
      "outputs": [
        {
          "output_type": "execute_result",
          "data": {
            "text/plain": [
              "23.878205128205128"
            ]
          },
          "metadata": {},
          "execution_count": 79
        }
      ]
    },
    {
      "cell_type": "code",
      "source": [
        "data_raw['houseType'].value_counts()[3] / (data_raw['houseType'].value_counts()[0] + data_raw['houseType'].value_counts()[1]\n",
        "                                           + data_raw['houseType'].value_counts()[2] + data_raw['houseType'].value_counts()[3]\n",
        "                                           + data_raw['houseType'].value_counts()[4] + data_raw['houseType'].value_counts()[5]\n",
        "                                           + data_raw['houseType'].value_counts()[6]) * 100"
      ],
      "metadata": {
        "colab": {
          "base_uri": "https://localhost:8080/"
        },
        "id": "RkcZqh4Y_FNl",
        "outputId": "15cac773-8cab-4ed9-d0aa-13cb43af4845"
      },
      "execution_count": 80,
      "outputs": [
        {
          "output_type": "execute_result",
          "data": {
            "text/plain": [
              "0.8012820512820512"
            ]
          },
          "metadata": {},
          "execution_count": 80
        }
      ]
    },
    {
      "cell_type": "code",
      "source": [
        "data_raw['houseType'].value_counts()[4] / (data_raw['houseType'].value_counts()[0] + data_raw['houseType'].value_counts()[1]\n",
        "                                           + data_raw['houseType'].value_counts()[2] + data_raw['houseType'].value_counts()[3]\n",
        "                                           + data_raw['houseType'].value_counts()[4] + data_raw['houseType'].value_counts()[5]\n",
        "                                           + data_raw['houseType'].value_counts()[6]) * 100"
      ],
      "metadata": {
        "colab": {
          "base_uri": "https://localhost:8080/"
        },
        "id": "9Wctyys0_HbG",
        "outputId": "b471bd94-f1d5-4638-e1a7-35d1c09d1516"
      },
      "execution_count": 81,
      "outputs": [
        {
          "output_type": "execute_result",
          "data": {
            "text/plain": [
              "0.641025641025641"
            ]
          },
          "metadata": {},
          "execution_count": 81
        }
      ]
    },
    {
      "cell_type": "code",
      "source": [
        "data_raw['houseType'].value_counts()[5] / (data_raw['houseType'].value_counts()[0] + data_raw['houseType'].value_counts()[1]\n",
        "                                           + data_raw['houseType'].value_counts()[2] + data_raw['houseType'].value_counts()[3]\n",
        "                                           + data_raw['houseType'].value_counts()[4] + data_raw['houseType'].value_counts()[5]\n",
        "                                           + data_raw['houseType'].value_counts()[6]) * 100"
      ],
      "metadata": {
        "colab": {
          "base_uri": "https://localhost:8080/"
        },
        "id": "zGf2Gg0g_JWC",
        "outputId": "8a60c7e8-d4c7-490f-9d1d-6b8f05d49f35"
      },
      "execution_count": 82,
      "outputs": [
        {
          "output_type": "execute_result",
          "data": {
            "text/plain": [
              "0.4807692307692308"
            ]
          },
          "metadata": {},
          "execution_count": 82
        }
      ]
    },
    {
      "cell_type": "code",
      "source": [
        "data_raw['houseType'].value_counts()[6] / (data_raw['houseType'].value_counts()[0] + data_raw['houseType'].value_counts()[1]\n",
        "                                           + data_raw['houseType'].value_counts()[2] + data_raw['houseType'].value_counts()[3]\n",
        "                                           + data_raw['houseType'].value_counts()[4] + data_raw['houseType'].value_counts()[5]\n",
        "                                           + data_raw['houseType'].value_counts()[6]) * 100"
      ],
      "metadata": {
        "colab": {
          "base_uri": "https://localhost:8080/"
        },
        "id": "CW7Q73T9_U6U",
        "outputId": "d0ebab08-ed23-43f6-f731-70d590bd253d"
      },
      "execution_count": 83,
      "outputs": [
        {
          "output_type": "execute_result",
          "data": {
            "text/plain": [
              "0.2136752136752137"
            ]
          },
          "metadata": {},
          "execution_count": 83
        }
      ]
    },
    {
      "cell_type": "markdown",
      "source": [
        "Вычислим основные статистические характеристики:\n",
        "\n",
        "mean - среднее значение\n",
        "std - стандартное отклонение\n",
        "min - минимум\n",
        "25% - нижнее значение первого квантиля\n",
        "50% - медиана\n",
        "75% - верхнее значение первого квантиля\n",
        "max - максимум"
      ],
      "metadata": {
        "id": "FTZZzXsH_hOW"
      }
    },
    {
      "cell_type": "code",
      "source": [
        "data_raw.describe()"
      ],
      "metadata": {
        "colab": {
          "base_uri": "https://localhost:8080/",
          "height": 337
        },
        "id": "AoiL7p0L_kLl",
        "outputId": "074f073c-cc43-43da-e7b6-c6a23d0009aa"
      },
      "execution_count": 84,
      "outputs": [
        {
          "output_type": "execute_result",
          "data": {
            "text/plain": [
              "                  id  establishedYear       shared  bedAvailable  \\\n",
              "count    1873.000000      1312.000000  1873.000000   1873.000000   \n",
              "mean   227002.531233      2015.743140     2.227977      0.338494   \n",
              "std    135164.128706        14.620509     1.437749      0.680699   \n",
              "min       135.000000      1800.000000     0.000000      0.000000   \n",
              "25%     68371.000000      2013.000000     1.000000      0.000000   \n",
              "50%    277543.000000      2019.000000     2.000000      0.000000   \n",
              "75%    353723.000000      2020.000000     3.000000      0.000000   \n",
              "max    361277.000000      2023.000000    10.000000      6.000000   \n",
              "\n",
              "       roomAvailable  area(sq-fit)  bathroomCount   minRent(Rs)  \\\n",
              "count    1873.000000   1873.000000    1873.000000   1873.000000   \n",
              "mean        1.397224    978.972237       1.424987  11135.791778   \n",
              "std         0.941240    654.465355       0.916874   7724.231629   \n",
              "min         0.000000      0.000000       0.000000      0.000000   \n",
              "25%         1.000000    500.000000       1.000000   6500.000000   \n",
              "50%         1.000000    950.000000       1.000000   8735.000000   \n",
              "75%         2.000000   1300.000000       2.000000  13000.000000   \n",
              "max         6.000000  10000.000000       7.000000  83333.000000   \n",
              "\n",
              "       minRoomRent(Rs)  minRoomAdvance(Rs)          lat         long  \n",
              "count      1873.000000         1873.000000  1873.000000  1873.000000  \n",
              "mean      15192.490657        38751.866524    17.959152    76.572574  \n",
              "std        8269.362522        44674.184413     5.428525     2.014396  \n",
              "min           0.000000            0.000000    12.781008    72.810486  \n",
              "25%       10000.000000        20000.000000    12.973643    73.962463  \n",
              "50%       13500.000000        28000.000000    17.471685    77.499657  \n",
              "75%       17750.000000        40800.000000    19.164930    77.673416  \n",
              "max       83333.000000       600000.000000    28.741781    80.261124  "
            ],
            "text/html": [
              "\n",
              "  <div id=\"df-a1e76b15-d78a-47ff-a53c-20dc2e04ac8c\" class=\"colab-df-container\">\n",
              "    <div>\n",
              "<style scoped>\n",
              "    .dataframe tbody tr th:only-of-type {\n",
              "        vertical-align: middle;\n",
              "    }\n",
              "\n",
              "    .dataframe tbody tr th {\n",
              "        vertical-align: top;\n",
              "    }\n",
              "\n",
              "    .dataframe thead th {\n",
              "        text-align: right;\n",
              "    }\n",
              "</style>\n",
              "<table border=\"1\" class=\"dataframe\">\n",
              "  <thead>\n",
              "    <tr style=\"text-align: right;\">\n",
              "      <th></th>\n",
              "      <th>id</th>\n",
              "      <th>establishedYear</th>\n",
              "      <th>shared</th>\n",
              "      <th>bedAvailable</th>\n",
              "      <th>roomAvailable</th>\n",
              "      <th>area(sq-fit)</th>\n",
              "      <th>bathroomCount</th>\n",
              "      <th>minRent(Rs)</th>\n",
              "      <th>minRoomRent(Rs)</th>\n",
              "      <th>minRoomAdvance(Rs)</th>\n",
              "      <th>lat</th>\n",
              "      <th>long</th>\n",
              "    </tr>\n",
              "  </thead>\n",
              "  <tbody>\n",
              "    <tr>\n",
              "      <th>count</th>\n",
              "      <td>1873.000000</td>\n",
              "      <td>1312.000000</td>\n",
              "      <td>1873.000000</td>\n",
              "      <td>1873.000000</td>\n",
              "      <td>1873.000000</td>\n",
              "      <td>1873.000000</td>\n",
              "      <td>1873.000000</td>\n",
              "      <td>1873.000000</td>\n",
              "      <td>1873.000000</td>\n",
              "      <td>1873.000000</td>\n",
              "      <td>1873.000000</td>\n",
              "      <td>1873.000000</td>\n",
              "    </tr>\n",
              "    <tr>\n",
              "      <th>mean</th>\n",
              "      <td>227002.531233</td>\n",
              "      <td>2015.743140</td>\n",
              "      <td>2.227977</td>\n",
              "      <td>0.338494</td>\n",
              "      <td>1.397224</td>\n",
              "      <td>978.972237</td>\n",
              "      <td>1.424987</td>\n",
              "      <td>11135.791778</td>\n",
              "      <td>15192.490657</td>\n",
              "      <td>38751.866524</td>\n",
              "      <td>17.959152</td>\n",
              "      <td>76.572574</td>\n",
              "    </tr>\n",
              "    <tr>\n",
              "      <th>std</th>\n",
              "      <td>135164.128706</td>\n",
              "      <td>14.620509</td>\n",
              "      <td>1.437749</td>\n",
              "      <td>0.680699</td>\n",
              "      <td>0.941240</td>\n",
              "      <td>654.465355</td>\n",
              "      <td>0.916874</td>\n",
              "      <td>7724.231629</td>\n",
              "      <td>8269.362522</td>\n",
              "      <td>44674.184413</td>\n",
              "      <td>5.428525</td>\n",
              "      <td>2.014396</td>\n",
              "    </tr>\n",
              "    <tr>\n",
              "      <th>min</th>\n",
              "      <td>135.000000</td>\n",
              "      <td>1800.000000</td>\n",
              "      <td>0.000000</td>\n",
              "      <td>0.000000</td>\n",
              "      <td>0.000000</td>\n",
              "      <td>0.000000</td>\n",
              "      <td>0.000000</td>\n",
              "      <td>0.000000</td>\n",
              "      <td>0.000000</td>\n",
              "      <td>0.000000</td>\n",
              "      <td>12.781008</td>\n",
              "      <td>72.810486</td>\n",
              "    </tr>\n",
              "    <tr>\n",
              "      <th>25%</th>\n",
              "      <td>68371.000000</td>\n",
              "      <td>2013.000000</td>\n",
              "      <td>1.000000</td>\n",
              "      <td>0.000000</td>\n",
              "      <td>1.000000</td>\n",
              "      <td>500.000000</td>\n",
              "      <td>1.000000</td>\n",
              "      <td>6500.000000</td>\n",
              "      <td>10000.000000</td>\n",
              "      <td>20000.000000</td>\n",
              "      <td>12.973643</td>\n",
              "      <td>73.962463</td>\n",
              "    </tr>\n",
              "    <tr>\n",
              "      <th>50%</th>\n",
              "      <td>277543.000000</td>\n",
              "      <td>2019.000000</td>\n",
              "      <td>2.000000</td>\n",
              "      <td>0.000000</td>\n",
              "      <td>1.000000</td>\n",
              "      <td>950.000000</td>\n",
              "      <td>1.000000</td>\n",
              "      <td>8735.000000</td>\n",
              "      <td>13500.000000</td>\n",
              "      <td>28000.000000</td>\n",
              "      <td>17.471685</td>\n",
              "      <td>77.499657</td>\n",
              "    </tr>\n",
              "    <tr>\n",
              "      <th>75%</th>\n",
              "      <td>353723.000000</td>\n",
              "      <td>2020.000000</td>\n",
              "      <td>3.000000</td>\n",
              "      <td>0.000000</td>\n",
              "      <td>2.000000</td>\n",
              "      <td>1300.000000</td>\n",
              "      <td>2.000000</td>\n",
              "      <td>13000.000000</td>\n",
              "      <td>17750.000000</td>\n",
              "      <td>40800.000000</td>\n",
              "      <td>19.164930</td>\n",
              "      <td>77.673416</td>\n",
              "    </tr>\n",
              "    <tr>\n",
              "      <th>max</th>\n",
              "      <td>361277.000000</td>\n",
              "      <td>2023.000000</td>\n",
              "      <td>10.000000</td>\n",
              "      <td>6.000000</td>\n",
              "      <td>6.000000</td>\n",
              "      <td>10000.000000</td>\n",
              "      <td>7.000000</td>\n",
              "      <td>83333.000000</td>\n",
              "      <td>83333.000000</td>\n",
              "      <td>600000.000000</td>\n",
              "      <td>28.741781</td>\n",
              "      <td>80.261124</td>\n",
              "    </tr>\n",
              "  </tbody>\n",
              "</table>\n",
              "</div>\n",
              "    <div class=\"colab-df-buttons\">\n",
              "\n",
              "  <div class=\"colab-df-container\">\n",
              "    <button class=\"colab-df-convert\" onclick=\"convertToInteractive('df-a1e76b15-d78a-47ff-a53c-20dc2e04ac8c')\"\n",
              "            title=\"Convert this dataframe to an interactive table.\"\n",
              "            style=\"display:none;\">\n",
              "\n",
              "  <svg xmlns=\"http://www.w3.org/2000/svg\" height=\"24px\" viewBox=\"0 -960 960 960\">\n",
              "    <path d=\"M120-120v-720h720v720H120Zm60-500h600v-160H180v160Zm220 220h160v-160H400v160Zm0 220h160v-160H400v160ZM180-400h160v-160H180v160Zm440 0h160v-160H620v160ZM180-180h160v-160H180v160Zm440 0h160v-160H620v160Z\"/>\n",
              "  </svg>\n",
              "    </button>\n",
              "\n",
              "  <style>\n",
              "    .colab-df-container {\n",
              "      display:flex;\n",
              "      gap: 12px;\n",
              "    }\n",
              "\n",
              "    .colab-df-convert {\n",
              "      background-color: #E8F0FE;\n",
              "      border: none;\n",
              "      border-radius: 50%;\n",
              "      cursor: pointer;\n",
              "      display: none;\n",
              "      fill: #1967D2;\n",
              "      height: 32px;\n",
              "      padding: 0 0 0 0;\n",
              "      width: 32px;\n",
              "    }\n",
              "\n",
              "    .colab-df-convert:hover {\n",
              "      background-color: #E2EBFA;\n",
              "      box-shadow: 0px 1px 2px rgba(60, 64, 67, 0.3), 0px 1px 3px 1px rgba(60, 64, 67, 0.15);\n",
              "      fill: #174EA6;\n",
              "    }\n",
              "\n",
              "    .colab-df-buttons div {\n",
              "      margin-bottom: 4px;\n",
              "    }\n",
              "\n",
              "    [theme=dark] .colab-df-convert {\n",
              "      background-color: #3B4455;\n",
              "      fill: #D2E3FC;\n",
              "    }\n",
              "\n",
              "    [theme=dark] .colab-df-convert:hover {\n",
              "      background-color: #434B5C;\n",
              "      box-shadow: 0px 1px 3px 1px rgba(0, 0, 0, 0.15);\n",
              "      filter: drop-shadow(0px 1px 2px rgba(0, 0, 0, 0.3));\n",
              "      fill: #FFFFFF;\n",
              "    }\n",
              "  </style>\n",
              "\n",
              "    <script>\n",
              "      const buttonEl =\n",
              "        document.querySelector('#df-a1e76b15-d78a-47ff-a53c-20dc2e04ac8c button.colab-df-convert');\n",
              "      buttonEl.style.display =\n",
              "        google.colab.kernel.accessAllowed ? 'block' : 'none';\n",
              "\n",
              "      async function convertToInteractive(key) {\n",
              "        const element = document.querySelector('#df-a1e76b15-d78a-47ff-a53c-20dc2e04ac8c');\n",
              "        const dataTable =\n",
              "          await google.colab.kernel.invokeFunction('convertToInteractive',\n",
              "                                                    [key], {});\n",
              "        if (!dataTable) return;\n",
              "\n",
              "        const docLinkHtml = 'Like what you see? Visit the ' +\n",
              "          '<a target=\"_blank\" href=https://colab.research.google.com/notebooks/data_table.ipynb>data table notebook</a>'\n",
              "          + ' to learn more about interactive tables.';\n",
              "        element.innerHTML = '';\n",
              "        dataTable['output_type'] = 'display_data';\n",
              "        await google.colab.output.renderOutput(dataTable, element);\n",
              "        const docLink = document.createElement('div');\n",
              "        docLink.innerHTML = docLinkHtml;\n",
              "        element.appendChild(docLink);\n",
              "      }\n",
              "    </script>\n",
              "  </div>\n",
              "\n",
              "\n",
              "<div id=\"df-5bc97e27-b381-412b-9199-bc542a9d196a\">\n",
              "  <button class=\"colab-df-quickchart\" onclick=\"quickchart('df-5bc97e27-b381-412b-9199-bc542a9d196a')\"\n",
              "            title=\"Suggest charts\"\n",
              "            style=\"display:none;\">\n",
              "\n",
              "<svg xmlns=\"http://www.w3.org/2000/svg\" height=\"24px\"viewBox=\"0 0 24 24\"\n",
              "     width=\"24px\">\n",
              "    <g>\n",
              "        <path d=\"M19 3H5c-1.1 0-2 .9-2 2v14c0 1.1.9 2 2 2h14c1.1 0 2-.9 2-2V5c0-1.1-.9-2-2-2zM9 17H7v-7h2v7zm4 0h-2V7h2v10zm4 0h-2v-4h2v4z\"/>\n",
              "    </g>\n",
              "</svg>\n",
              "  </button>\n",
              "\n",
              "<style>\n",
              "  .colab-df-quickchart {\n",
              "      --bg-color: #E8F0FE;\n",
              "      --fill-color: #1967D2;\n",
              "      --hover-bg-color: #E2EBFA;\n",
              "      --hover-fill-color: #174EA6;\n",
              "      --disabled-fill-color: #AAA;\n",
              "      --disabled-bg-color: #DDD;\n",
              "  }\n",
              "\n",
              "  [theme=dark] .colab-df-quickchart {\n",
              "      --bg-color: #3B4455;\n",
              "      --fill-color: #D2E3FC;\n",
              "      --hover-bg-color: #434B5C;\n",
              "      --hover-fill-color: #FFFFFF;\n",
              "      --disabled-bg-color: #3B4455;\n",
              "      --disabled-fill-color: #666;\n",
              "  }\n",
              "\n",
              "  .colab-df-quickchart {\n",
              "    background-color: var(--bg-color);\n",
              "    border: none;\n",
              "    border-radius: 50%;\n",
              "    cursor: pointer;\n",
              "    display: none;\n",
              "    fill: var(--fill-color);\n",
              "    height: 32px;\n",
              "    padding: 0;\n",
              "    width: 32px;\n",
              "  }\n",
              "\n",
              "  .colab-df-quickchart:hover {\n",
              "    background-color: var(--hover-bg-color);\n",
              "    box-shadow: 0 1px 2px rgba(60, 64, 67, 0.3), 0 1px 3px 1px rgba(60, 64, 67, 0.15);\n",
              "    fill: var(--button-hover-fill-color);\n",
              "  }\n",
              "\n",
              "  .colab-df-quickchart-complete:disabled,\n",
              "  .colab-df-quickchart-complete:disabled:hover {\n",
              "    background-color: var(--disabled-bg-color);\n",
              "    fill: var(--disabled-fill-color);\n",
              "    box-shadow: none;\n",
              "  }\n",
              "\n",
              "  .colab-df-spinner {\n",
              "    border: 2px solid var(--fill-color);\n",
              "    border-color: transparent;\n",
              "    border-bottom-color: var(--fill-color);\n",
              "    animation:\n",
              "      spin 1s steps(1) infinite;\n",
              "  }\n",
              "\n",
              "  @keyframes spin {\n",
              "    0% {\n",
              "      border-color: transparent;\n",
              "      border-bottom-color: var(--fill-color);\n",
              "      border-left-color: var(--fill-color);\n",
              "    }\n",
              "    20% {\n",
              "      border-color: transparent;\n",
              "      border-left-color: var(--fill-color);\n",
              "      border-top-color: var(--fill-color);\n",
              "    }\n",
              "    30% {\n",
              "      border-color: transparent;\n",
              "      border-left-color: var(--fill-color);\n",
              "      border-top-color: var(--fill-color);\n",
              "      border-right-color: var(--fill-color);\n",
              "    }\n",
              "    40% {\n",
              "      border-color: transparent;\n",
              "      border-right-color: var(--fill-color);\n",
              "      border-top-color: var(--fill-color);\n",
              "    }\n",
              "    60% {\n",
              "      border-color: transparent;\n",
              "      border-right-color: var(--fill-color);\n",
              "    }\n",
              "    80% {\n",
              "      border-color: transparent;\n",
              "      border-right-color: var(--fill-color);\n",
              "      border-bottom-color: var(--fill-color);\n",
              "    }\n",
              "    90% {\n",
              "      border-color: transparent;\n",
              "      border-bottom-color: var(--fill-color);\n",
              "    }\n",
              "  }\n",
              "</style>\n",
              "\n",
              "  <script>\n",
              "    async function quickchart(key) {\n",
              "      const quickchartButtonEl =\n",
              "        document.querySelector('#' + key + ' button');\n",
              "      quickchartButtonEl.disabled = true;  // To prevent multiple clicks.\n",
              "      quickchartButtonEl.classList.add('colab-df-spinner');\n",
              "      try {\n",
              "        const charts = await google.colab.kernel.invokeFunction(\n",
              "            'suggestCharts', [key], {});\n",
              "      } catch (error) {\n",
              "        console.error('Error during call to suggestCharts:', error);\n",
              "      }\n",
              "      quickchartButtonEl.classList.remove('colab-df-spinner');\n",
              "      quickchartButtonEl.classList.add('colab-df-quickchart-complete');\n",
              "    }\n",
              "    (() => {\n",
              "      let quickchartButtonEl =\n",
              "        document.querySelector('#df-5bc97e27-b381-412b-9199-bc542a9d196a button');\n",
              "      quickchartButtonEl.style.display =\n",
              "        google.colab.kernel.accessAllowed ? 'block' : 'none';\n",
              "    })();\n",
              "  </script>\n",
              "</div>\n",
              "    </div>\n",
              "  </div>\n"
            ]
          },
          "metadata": {},
          "execution_count": 84
        }
      ]
    },
    {
      "cell_type": "markdown",
      "source": [
        "Вычислим матрицу корреляции для количественных признаков"
      ],
      "metadata": {
        "id": "ah2BF0lf_mX1"
      }
    },
    {
      "cell_type": "code",
      "source": [
        "corr_mat = df.corr()\n",
        "corr_mat"
      ],
      "metadata": {
        "colab": {
          "base_uri": "https://localhost:8080/",
          "height": 237
        },
        "id": "lnxdQgJq_nMX",
        "outputId": "bfc5526f-e7ed-4743-f769-55d3ece33f18"
      },
      "execution_count": 85,
      "outputs": [
        {
          "output_type": "execute_result",
          "data": {
            "text/plain": [
              "                   shared  bedAvailable  area(sq-fit)  bathroomCount  \\\n",
              "shared           1.000000      0.118697      0.389191       0.234843   \n",
              "bedAvailable     0.118697      1.000000      0.196954       0.017596   \n",
              "area(sq-fit)     0.389191      0.196954      1.000000       0.337308   \n",
              "bathroomCount    0.234843      0.017596      0.337308       1.000000   \n",
              "minRent(Rs)     -0.192118     -0.193190     -0.060115       0.171371   \n",
              "minRoomRent(Rs) -0.028543      0.051211     -0.000316       0.085206   \n",
              "\n",
              "                 minRent(Rs)  minRoomRent(Rs)  \n",
              "shared             -0.192118        -0.028543  \n",
              "bedAvailable       -0.193190         0.051211  \n",
              "area(sq-fit)       -0.060115        -0.000316  \n",
              "bathroomCount       0.171371         0.085206  \n",
              "minRent(Rs)         1.000000         0.765782  \n",
              "minRoomRent(Rs)     0.765782         1.000000  "
            ],
            "text/html": [
              "\n",
              "  <div id=\"df-f37c77a8-c427-4d6c-9681-b328f07f5fcc\" class=\"colab-df-container\">\n",
              "    <div>\n",
              "<style scoped>\n",
              "    .dataframe tbody tr th:only-of-type {\n",
              "        vertical-align: middle;\n",
              "    }\n",
              "\n",
              "    .dataframe tbody tr th {\n",
              "        vertical-align: top;\n",
              "    }\n",
              "\n",
              "    .dataframe thead th {\n",
              "        text-align: right;\n",
              "    }\n",
              "</style>\n",
              "<table border=\"1\" class=\"dataframe\">\n",
              "  <thead>\n",
              "    <tr style=\"text-align: right;\">\n",
              "      <th></th>\n",
              "      <th>shared</th>\n",
              "      <th>bedAvailable</th>\n",
              "      <th>area(sq-fit)</th>\n",
              "      <th>bathroomCount</th>\n",
              "      <th>minRent(Rs)</th>\n",
              "      <th>minRoomRent(Rs)</th>\n",
              "    </tr>\n",
              "  </thead>\n",
              "  <tbody>\n",
              "    <tr>\n",
              "      <th>shared</th>\n",
              "      <td>1.000000</td>\n",
              "      <td>0.118697</td>\n",
              "      <td>0.389191</td>\n",
              "      <td>0.234843</td>\n",
              "      <td>-0.192118</td>\n",
              "      <td>-0.028543</td>\n",
              "    </tr>\n",
              "    <tr>\n",
              "      <th>bedAvailable</th>\n",
              "      <td>0.118697</td>\n",
              "      <td>1.000000</td>\n",
              "      <td>0.196954</td>\n",
              "      <td>0.017596</td>\n",
              "      <td>-0.193190</td>\n",
              "      <td>0.051211</td>\n",
              "    </tr>\n",
              "    <tr>\n",
              "      <th>area(sq-fit)</th>\n",
              "      <td>0.389191</td>\n",
              "      <td>0.196954</td>\n",
              "      <td>1.000000</td>\n",
              "      <td>0.337308</td>\n",
              "      <td>-0.060115</td>\n",
              "      <td>-0.000316</td>\n",
              "    </tr>\n",
              "    <tr>\n",
              "      <th>bathroomCount</th>\n",
              "      <td>0.234843</td>\n",
              "      <td>0.017596</td>\n",
              "      <td>0.337308</td>\n",
              "      <td>1.000000</td>\n",
              "      <td>0.171371</td>\n",
              "      <td>0.085206</td>\n",
              "    </tr>\n",
              "    <tr>\n",
              "      <th>minRent(Rs)</th>\n",
              "      <td>-0.192118</td>\n",
              "      <td>-0.193190</td>\n",
              "      <td>-0.060115</td>\n",
              "      <td>0.171371</td>\n",
              "      <td>1.000000</td>\n",
              "      <td>0.765782</td>\n",
              "    </tr>\n",
              "    <tr>\n",
              "      <th>minRoomRent(Rs)</th>\n",
              "      <td>-0.028543</td>\n",
              "      <td>0.051211</td>\n",
              "      <td>-0.000316</td>\n",
              "      <td>0.085206</td>\n",
              "      <td>0.765782</td>\n",
              "      <td>1.000000</td>\n",
              "    </tr>\n",
              "  </tbody>\n",
              "</table>\n",
              "</div>\n",
              "    <div class=\"colab-df-buttons\">\n",
              "\n",
              "  <div class=\"colab-df-container\">\n",
              "    <button class=\"colab-df-convert\" onclick=\"convertToInteractive('df-f37c77a8-c427-4d6c-9681-b328f07f5fcc')\"\n",
              "            title=\"Convert this dataframe to an interactive table.\"\n",
              "            style=\"display:none;\">\n",
              "\n",
              "  <svg xmlns=\"http://www.w3.org/2000/svg\" height=\"24px\" viewBox=\"0 -960 960 960\">\n",
              "    <path d=\"M120-120v-720h720v720H120Zm60-500h600v-160H180v160Zm220 220h160v-160H400v160Zm0 220h160v-160H400v160ZM180-400h160v-160H180v160Zm440 0h160v-160H620v160ZM180-180h160v-160H180v160Zm440 0h160v-160H620v160Z\"/>\n",
              "  </svg>\n",
              "    </button>\n",
              "\n",
              "  <style>\n",
              "    .colab-df-container {\n",
              "      display:flex;\n",
              "      gap: 12px;\n",
              "    }\n",
              "\n",
              "    .colab-df-convert {\n",
              "      background-color: #E8F0FE;\n",
              "      border: none;\n",
              "      border-radius: 50%;\n",
              "      cursor: pointer;\n",
              "      display: none;\n",
              "      fill: #1967D2;\n",
              "      height: 32px;\n",
              "      padding: 0 0 0 0;\n",
              "      width: 32px;\n",
              "    }\n",
              "\n",
              "    .colab-df-convert:hover {\n",
              "      background-color: #E2EBFA;\n",
              "      box-shadow: 0px 1px 2px rgba(60, 64, 67, 0.3), 0px 1px 3px 1px rgba(60, 64, 67, 0.15);\n",
              "      fill: #174EA6;\n",
              "    }\n",
              "\n",
              "    .colab-df-buttons div {\n",
              "      margin-bottom: 4px;\n",
              "    }\n",
              "\n",
              "    [theme=dark] .colab-df-convert {\n",
              "      background-color: #3B4455;\n",
              "      fill: #D2E3FC;\n",
              "    }\n",
              "\n",
              "    [theme=dark] .colab-df-convert:hover {\n",
              "      background-color: #434B5C;\n",
              "      box-shadow: 0px 1px 3px 1px rgba(0, 0, 0, 0.15);\n",
              "      filter: drop-shadow(0px 1px 2px rgba(0, 0, 0, 0.3));\n",
              "      fill: #FFFFFF;\n",
              "    }\n",
              "  </style>\n",
              "\n",
              "    <script>\n",
              "      const buttonEl =\n",
              "        document.querySelector('#df-f37c77a8-c427-4d6c-9681-b328f07f5fcc button.colab-df-convert');\n",
              "      buttonEl.style.display =\n",
              "        google.colab.kernel.accessAllowed ? 'block' : 'none';\n",
              "\n",
              "      async function convertToInteractive(key) {\n",
              "        const element = document.querySelector('#df-f37c77a8-c427-4d6c-9681-b328f07f5fcc');\n",
              "        const dataTable =\n",
              "          await google.colab.kernel.invokeFunction('convertToInteractive',\n",
              "                                                    [key], {});\n",
              "        if (!dataTable) return;\n",
              "\n",
              "        const docLinkHtml = 'Like what you see? Visit the ' +\n",
              "          '<a target=\"_blank\" href=https://colab.research.google.com/notebooks/data_table.ipynb>data table notebook</a>'\n",
              "          + ' to learn more about interactive tables.';\n",
              "        element.innerHTML = '';\n",
              "        dataTable['output_type'] = 'display_data';\n",
              "        await google.colab.output.renderOutput(dataTable, element);\n",
              "        const docLink = document.createElement('div');\n",
              "        docLink.innerHTML = docLinkHtml;\n",
              "        element.appendChild(docLink);\n",
              "      }\n",
              "    </script>\n",
              "  </div>\n",
              "\n",
              "\n",
              "<div id=\"df-4442df35-97ca-4a23-b971-9d2345cc3402\">\n",
              "  <button class=\"colab-df-quickchart\" onclick=\"quickchart('df-4442df35-97ca-4a23-b971-9d2345cc3402')\"\n",
              "            title=\"Suggest charts\"\n",
              "            style=\"display:none;\">\n",
              "\n",
              "<svg xmlns=\"http://www.w3.org/2000/svg\" height=\"24px\"viewBox=\"0 0 24 24\"\n",
              "     width=\"24px\">\n",
              "    <g>\n",
              "        <path d=\"M19 3H5c-1.1 0-2 .9-2 2v14c0 1.1.9 2 2 2h14c1.1 0 2-.9 2-2V5c0-1.1-.9-2-2-2zM9 17H7v-7h2v7zm4 0h-2V7h2v10zm4 0h-2v-4h2v4z\"/>\n",
              "    </g>\n",
              "</svg>\n",
              "  </button>\n",
              "\n",
              "<style>\n",
              "  .colab-df-quickchart {\n",
              "      --bg-color: #E8F0FE;\n",
              "      --fill-color: #1967D2;\n",
              "      --hover-bg-color: #E2EBFA;\n",
              "      --hover-fill-color: #174EA6;\n",
              "      --disabled-fill-color: #AAA;\n",
              "      --disabled-bg-color: #DDD;\n",
              "  }\n",
              "\n",
              "  [theme=dark] .colab-df-quickchart {\n",
              "      --bg-color: #3B4455;\n",
              "      --fill-color: #D2E3FC;\n",
              "      --hover-bg-color: #434B5C;\n",
              "      --hover-fill-color: #FFFFFF;\n",
              "      --disabled-bg-color: #3B4455;\n",
              "      --disabled-fill-color: #666;\n",
              "  }\n",
              "\n",
              "  .colab-df-quickchart {\n",
              "    background-color: var(--bg-color);\n",
              "    border: none;\n",
              "    border-radius: 50%;\n",
              "    cursor: pointer;\n",
              "    display: none;\n",
              "    fill: var(--fill-color);\n",
              "    height: 32px;\n",
              "    padding: 0;\n",
              "    width: 32px;\n",
              "  }\n",
              "\n",
              "  .colab-df-quickchart:hover {\n",
              "    background-color: var(--hover-bg-color);\n",
              "    box-shadow: 0 1px 2px rgba(60, 64, 67, 0.3), 0 1px 3px 1px rgba(60, 64, 67, 0.15);\n",
              "    fill: var(--button-hover-fill-color);\n",
              "  }\n",
              "\n",
              "  .colab-df-quickchart-complete:disabled,\n",
              "  .colab-df-quickchart-complete:disabled:hover {\n",
              "    background-color: var(--disabled-bg-color);\n",
              "    fill: var(--disabled-fill-color);\n",
              "    box-shadow: none;\n",
              "  }\n",
              "\n",
              "  .colab-df-spinner {\n",
              "    border: 2px solid var(--fill-color);\n",
              "    border-color: transparent;\n",
              "    border-bottom-color: var(--fill-color);\n",
              "    animation:\n",
              "      spin 1s steps(1) infinite;\n",
              "  }\n",
              "\n",
              "  @keyframes spin {\n",
              "    0% {\n",
              "      border-color: transparent;\n",
              "      border-bottom-color: var(--fill-color);\n",
              "      border-left-color: var(--fill-color);\n",
              "    }\n",
              "    20% {\n",
              "      border-color: transparent;\n",
              "      border-left-color: var(--fill-color);\n",
              "      border-top-color: var(--fill-color);\n",
              "    }\n",
              "    30% {\n",
              "      border-color: transparent;\n",
              "      border-left-color: var(--fill-color);\n",
              "      border-top-color: var(--fill-color);\n",
              "      border-right-color: var(--fill-color);\n",
              "    }\n",
              "    40% {\n",
              "      border-color: transparent;\n",
              "      border-right-color: var(--fill-color);\n",
              "      border-top-color: var(--fill-color);\n",
              "    }\n",
              "    60% {\n",
              "      border-color: transparent;\n",
              "      border-right-color: var(--fill-color);\n",
              "    }\n",
              "    80% {\n",
              "      border-color: transparent;\n",
              "      border-right-color: var(--fill-color);\n",
              "      border-bottom-color: var(--fill-color);\n",
              "    }\n",
              "    90% {\n",
              "      border-color: transparent;\n",
              "      border-bottom-color: var(--fill-color);\n",
              "    }\n",
              "  }\n",
              "</style>\n",
              "\n",
              "  <script>\n",
              "    async function quickchart(key) {\n",
              "      const quickchartButtonEl =\n",
              "        document.querySelector('#' + key + ' button');\n",
              "      quickchartButtonEl.disabled = true;  // To prevent multiple clicks.\n",
              "      quickchartButtonEl.classList.add('colab-df-spinner');\n",
              "      try {\n",
              "        const charts = await google.colab.kernel.invokeFunction(\n",
              "            'suggestCharts', [key], {});\n",
              "      } catch (error) {\n",
              "        console.error('Error during call to suggestCharts:', error);\n",
              "      }\n",
              "      quickchartButtonEl.classList.remove('colab-df-spinner');\n",
              "      quickchartButtonEl.classList.add('colab-df-quickchart-complete');\n",
              "    }\n",
              "    (() => {\n",
              "      let quickchartButtonEl =\n",
              "        document.querySelector('#df-4442df35-97ca-4a23-b971-9d2345cc3402 button');\n",
              "      quickchartButtonEl.style.display =\n",
              "        google.colab.kernel.accessAllowed ? 'block' : 'none';\n",
              "    })();\n",
              "  </script>\n",
              "</div>\n",
              "    </div>\n",
              "  </div>\n"
            ]
          },
          "metadata": {},
          "execution_count": 85
        }
      ]
    },
    {
      "cell_type": "code",
      "source": [
        "sns.heatmap(corr_mat, cmap='coolwarm')"
      ],
      "metadata": {
        "colab": {
          "base_uri": "https://localhost:8080/",
          "height": 563
        },
        "id": "nLeO3UQK_qDZ",
        "outputId": "c7f6f358-bf6b-442f-d296-9cff416eaf7a"
      },
      "execution_count": 86,
      "outputs": [
        {
          "output_type": "execute_result",
          "data": {
            "text/plain": [
              "<Axes: >"
            ]
          },
          "metadata": {},
          "execution_count": 86
        },
        {
          "output_type": "display_data",
          "data": {
            "text/plain": [
              "<Figure size 640x480 with 2 Axes>"
            ],
            "image/png": "[encoded data removed]"
          },
          "metadata": {}
        }
      ]
    },
    {
      "cell_type": "markdown",
      "source": [
        "Корреляция присутствует по всем признакам\n",
        "\n",
        "# 3. Борьба с пропущенными значениями\n",
        "Для этого посмотрим все пропущенные значения по всем стоблцам"
      ],
      "metadata": {
        "id": "uahb2Gzv_ti3"
      }
    },
    {
      "cell_type": "code",
      "source": [
        "fig, ax = plt.subplots(figsize=(10,10))\n",
        "ax = sns.heatmap(data_raw.isna().sum().to_frame(), annot=True, fmt='d',cmap='coolwarm', linewidths=.2)\n",
        "ax.set_xlabel(\"Missing Values\")"
      ],
      "metadata": {
        "colab": {
          "base_uri": "https://localhost:8080/",
          "height": 867
        },
        "id": "2T_v0vQN_vL4",
        "outputId": "87bcaa92-4743-4d93-a0c6-afd83301b550"
      },
      "execution_count": 87,
      "outputs": [
        {
          "output_type": "execute_result",
          "data": {
            "text/plain": [
              "Text(0.5, 80.7222222222222, 'Missing Values')"
            ]
          },
          "metadata": {},
          "execution_count": 87
        },
        {
          "output_type": "display_data",
          "data": {
            "text/plain": [
              "<Figure size 1000x1000 with 2 Axes>"
            ],
            "image/png": "[encoded data removed]"
          },
          "metadata": {}
        }
      ]
    },
    {
      "cell_type": "markdown",
      "source": [
        "Все пропущенные значения заполним часто встречающимися"
      ],
      "metadata": {
        "id": "O1WipfTw_yU2"
      }
    },
    {
      "cell_type": "code",
      "source": [
        "imputer_cols = ['establishedYear', 'title', 'houseType', 'bhkType', 'address', 'bookingType', 'available_from']\n",
        "imputer = SimpleImputer(strategy='most_frequent')\n",
        "imputer.fit(data_raw[imputer_cols])\n",
        "data_raw[imputer_cols] = imputer.transform(data_raw[imputer_cols])"
      ],
      "metadata": {
        "id": "Wq9gW-g3_0_T"
      },
      "execution_count": 88,
      "outputs": []
    },
    {
      "cell_type": "markdown",
      "source": [
        "Снова проверим таблицу на наличие пропущенных значений"
      ],
      "metadata": {
        "id": "h4j0UJ4IAXph"
      }
    },
    {
      "cell_type": "code",
      "source": [
        "fig, ax = plt.subplots(figsize=(10,10))\n",
        "ax = sns.heatmap(data_raw.isna().sum().to_frame(), annot=True, fmt='d',cmap='coolwarm')\n",
        "ax.set_xlabel(\"Missing Values\")"
      ],
      "metadata": {
        "colab": {
          "base_uri": "https://localhost:8080/",
          "height": 872
        },
        "id": "809MN8SjAYM6",
        "outputId": "0f491e59-4bf9-414d-c5b0-858e7fe686db"
      },
      "execution_count": 89,
      "outputs": [
        {
          "output_type": "execute_result",
          "data": {
            "text/plain": [
              "Text(0.5, 80.7222222222222, 'Missing Values')"
            ]
          },
          "metadata": {},
          "execution_count": 89
        },
        {
          "output_type": "display_data",
          "data": {
            "text/plain": [
              "<Figure size 1000x1000 with 2 Axes>"
            ],
            "image/png": "[encoded data removed]"
          },
          "metadata": {}
        }
      ]
    },
    {
      "cell_type": "markdown",
      "source": [
        "Пропущенные значения отсутствуют\n",
        "\n",
        "# 4. Обработка категориальных признаков"
      ],
      "metadata": {
        "id": "FkEW-iptAeGm"
      }
    },
    {
      "cell_type": "code",
      "source": [
        "for i in data_raw:\n",
        "    if data_raw[i].dtypes == 'object':\n",
        "        data_raw[i] = LabelEncoder().fit_transform(data_raw[i])\n",
        "\n",
        "data_raw"
      ],
      "metadata": {
        "colab": {
          "base_uri": "https://localhost:8080/",
          "height": 461
        },
        "id": "5xn49aw3AkNl",
        "outputId": "fae9df73-cbfb-4e93-9b55-c4e51ef8892f"
      },
      "execution_count": 90,
      "outputs": [
        {
          "output_type": "execute_result",
          "data": {
            "text/plain": [
              "          id  establishedYear  title  city  description  houseType  bhkType  \\\n",
              "0       3814               32     42    10           93          1        4   \n",
              "1      11845               32   1026     5          457          4        4   \n",
              "2     340222               22   1235     7           80          3        6   \n",
              "3     260247               33    689     0         1512          0        1   \n",
              "4     355316               35    558     2         1078          3        1   \n",
              "...      ...              ...    ...   ...          ...        ...      ...   \n",
              "1868  303764               32    750     5         1144          4        5   \n",
              "1869  253431               21    624     6         1540          4        4   \n",
              "1870  269421               27    438     8          702          4        4   \n",
              "1871  337604               27    420     7         1149          3        5   \n",
              "1872  169997               32    897     5          632          6       11   \n",
              "\n",
              "      address  shared  bedAvailable  ...  area(sq-fit)  bathroomCount  \\\n",
              "0         128       4             0  ...          1100              1   \n",
              "1         238       4             0  ...          1400              1   \n",
              "2         459       4             0  ...          1200              2   \n",
              "3           5       1             0  ...           600              1   \n",
              "4         279       1             0  ...           500              1   \n",
              "...       ...     ...           ...  ...           ...            ...   \n",
              "1868      120       3             0  ...          1800              3   \n",
              "1869      157       2             0  ...           900              2   \n",
              "1870      241       2             0  ...          1200              1   \n",
              "1871       21       3             0  ...          1300              3   \n",
              "1872      164       1             1  ...           225              1   \n",
              "\n",
              "      furnishingType  facilities  minRent(Rs)  minRoomRent(Rs)  \\\n",
              "0                  0          58         5886            12686   \n",
              "1                  0          91         8550            16100   \n",
              "2                  0           9        22250            22250   \n",
              "3                  1          95        19000            19000   \n",
              "4                  1          95        10000            10000   \n",
              "...              ...         ...          ...              ...   \n",
              "1868               0          92        16000            16000   \n",
              "1869               1          95         6000             6000   \n",
              "1870               1          95        20450            20450   \n",
              "1871               0          15        46666            46666   \n",
              "1872               1          95        10000            10000   \n",
              "\n",
              "      minRoomAdvance(Rs)        lat       long  available_from  \n",
              "0                  25372  18.526085  73.908905               4  \n",
              "1                  32200  17.499052  78.392693              38  \n",
              "2                  77875  19.052172  72.875252               4  \n",
              "3                  57000  12.958700  77.655403               1  \n",
              "4                  60000  13.036417  77.557220               1  \n",
              "...                  ...        ...        ...             ...  \n",
              "1868               32000  17.439747  78.329826               1  \n",
              "1869               30000  22.741608  75.804863               1  \n",
              "1870               20450  28.574446  77.245575               1  \n",
              "1871              116665  19.119131  72.842255               4  \n",
              "1872               20000  17.483395  78.390640               1  \n",
              "\n",
              "[1873 rows x 23 columns]"
            ],
            "text/html": [
              "\n",
              "  <div id=\"df-4ee22104-2514-4f39-89f6-39181e7ffb2b\" class=\"colab-df-container\">\n",
              "    <div>\n",
              "<style scoped>\n",
              "    .dataframe tbody tr th:only-of-type {\n",
              "        vertical-align: middle;\n",
              "    }\n",
              "\n",
              "    .dataframe tbody tr th {\n",
              "        vertical-align: top;\n",
              "    }\n",
              "\n",
              "    .dataframe thead th {\n",
              "        text-align: right;\n",
              "    }\n",
              "</style>\n",
              "<table border=\"1\" class=\"dataframe\">\n",
              "  <thead>\n",
              "    <tr style=\"text-align: right;\">\n",
              "      <th></th>\n",
              "      <th>id</th>\n",
              "      <th>establishedYear</th>\n",
              "      <th>title</th>\n",
              "      <th>city</th>\n",
              "      <th>description</th>\n",
              "      <th>houseType</th>\n",
              "      <th>bhkType</th>\n",
              "      <th>address</th>\n",
              "      <th>shared</th>\n",
              "      <th>bedAvailable</th>\n",
              "      <th>...</th>\n",
              "      <th>area(sq-fit)</th>\n",
              "      <th>bathroomCount</th>\n",
              "      <th>furnishingType</th>\n",
              "      <th>facilities</th>\n",
              "      <th>minRent(Rs)</th>\n",
              "      <th>minRoomRent(Rs)</th>\n",
              "      <th>minRoomAdvance(Rs)</th>\n",
              "      <th>lat</th>\n",
              "      <th>long</th>\n",
              "      <th>available_from</th>\n",
              "    </tr>\n",
              "  </thead>\n",
              "  <tbody>\n",
              "    <tr>\n",
              "      <th>0</th>\n",
              "      <td>3814</td>\n",
              "      <td>32</td>\n",
              "      <td>42</td>\n",
              "      <td>10</td>\n",
              "      <td>93</td>\n",
              "      <td>1</td>\n",
              "      <td>4</td>\n",
              "      <td>128</td>\n",
              "      <td>4</td>\n",
              "      <td>0</td>\n",
              "      <td>...</td>\n",
              "      <td>1100</td>\n",
              "      <td>1</td>\n",
              "      <td>0</td>\n",
              "      <td>58</td>\n",
              "      <td>5886</td>\n",
              "      <td>12686</td>\n",
              "      <td>25372</td>\n",
              "      <td>18.526085</td>\n",
              "      <td>73.908905</td>\n",
              "      <td>4</td>\n",
              "    </tr>\n",
              "    <tr>\n",
              "      <th>1</th>\n",
              "      <td>11845</td>\n",
              "      <td>32</td>\n",
              "      <td>1026</td>\n",
              "      <td>5</td>\n",
              "      <td>457</td>\n",
              "      <td>4</td>\n",
              "      <td>4</td>\n",
              "      <td>238</td>\n",
              "      <td>4</td>\n",
              "      <td>0</td>\n",
              "      <td>...</td>\n",
              "      <td>1400</td>\n",
              "      <td>1</td>\n",
              "      <td>0</td>\n",
              "      <td>91</td>\n",
              "      <td>8550</td>\n",
              "      <td>16100</td>\n",
              "      <td>32200</td>\n",
              "      <td>17.499052</td>\n",
              "      <td>78.392693</td>\n",
              "      <td>38</td>\n",
              "    </tr>\n",
              "    <tr>\n",
              "      <th>2</th>\n",
              "      <td>340222</td>\n",
              "      <td>22</td>\n",
              "      <td>1235</td>\n",
              "      <td>7</td>\n",
              "      <td>80</td>\n",
              "      <td>3</td>\n",
              "      <td>6</td>\n",
              "      <td>459</td>\n",
              "      <td>4</td>\n",
              "      <td>0</td>\n",
              "      <td>...</td>\n",
              "      <td>1200</td>\n",
              "      <td>2</td>\n",
              "      <td>0</td>\n",
              "      <td>9</td>\n",
              "      <td>22250</td>\n",
              "      <td>22250</td>\n",
              "      <td>77875</td>\n",
              "      <td>19.052172</td>\n",
              "      <td>72.875252</td>\n",
              "      <td>4</td>\n",
              "    </tr>\n",
              "    <tr>\n",
              "      <th>3</th>\n",
              "      <td>260247</td>\n",
              "      <td>33</td>\n",
              "      <td>689</td>\n",
              "      <td>0</td>\n",
              "      <td>1512</td>\n",
              "      <td>0</td>\n",
              "      <td>1</td>\n",
              "      <td>5</td>\n",
              "      <td>1</td>\n",
              "      <td>0</td>\n",
              "      <td>...</td>\n",
              "      <td>600</td>\n",
              "      <td>1</td>\n",
              "      <td>1</td>\n",
              "      <td>95</td>\n",
              "      <td>19000</td>\n",
              "      <td>19000</td>\n",
              "      <td>57000</td>\n",
              "      <td>12.958700</td>\n",
              "      <td>77.655403</td>\n",
              "      <td>1</td>\n",
              "    </tr>\n",
              "    <tr>\n",
              "      <th>4</th>\n",
              "      <td>355316</td>\n",
              "      <td>35</td>\n",
              "      <td>558</td>\n",
              "      <td>2</td>\n",
              "      <td>1078</td>\n",
              "      <td>3</td>\n",
              "      <td>1</td>\n",
              "      <td>279</td>\n",
              "      <td>1</td>\n",
              "      <td>0</td>\n",
              "      <td>...</td>\n",
              "      <td>500</td>\n",
              "      <td>1</td>\n",
              "      <td>1</td>\n",
              "      <td>95</td>\n",
              "      <td>10000</td>\n",
              "      <td>10000</td>\n",
              "      <td>60000</td>\n",
              "      <td>13.036417</td>\n",
              "      <td>77.557220</td>\n",
              "      <td>1</td>\n",
              "    </tr>\n",
              "    <tr>\n",
              "      <th>...</th>\n",
              "      <td>...</td>\n",
              "      <td>...</td>\n",
              "      <td>...</td>\n",
              "      <td>...</td>\n",
              "      <td>...</td>\n",
              "      <td>...</td>\n",
              "      <td>...</td>\n",
              "      <td>...</td>\n",
              "      <td>...</td>\n",
              "      <td>...</td>\n",
              "      <td>...</td>\n",
              "      <td>...</td>\n",
              "      <td>...</td>\n",
              "      <td>...</td>\n",
              "      <td>...</td>\n",
              "      <td>...</td>\n",
              "      <td>...</td>\n",
              "      <td>...</td>\n",
              "      <td>...</td>\n",
              "      <td>...</td>\n",
              "      <td>...</td>\n",
              "    </tr>\n",
              "    <tr>\n",
              "      <th>1868</th>\n",
              "      <td>303764</td>\n",
              "      <td>32</td>\n",
              "      <td>750</td>\n",
              "      <td>5</td>\n",
              "      <td>1144</td>\n",
              "      <td>4</td>\n",
              "      <td>5</td>\n",
              "      <td>120</td>\n",
              "      <td>3</td>\n",
              "      <td>0</td>\n",
              "      <td>...</td>\n",
              "      <td>1800</td>\n",
              "      <td>3</td>\n",
              "      <td>0</td>\n",
              "      <td>92</td>\n",
              "      <td>16000</td>\n",
              "      <td>16000</td>\n",
              "      <td>32000</td>\n",
              "      <td>17.439747</td>\n",
              "      <td>78.329826</td>\n",
              "      <td>1</td>\n",
              "    </tr>\n",
              "    <tr>\n",
              "      <th>1869</th>\n",
              "      <td>253431</td>\n",
              "      <td>21</td>\n",
              "      <td>624</td>\n",
              "      <td>6</td>\n",
              "      <td>1540</td>\n",
              "      <td>4</td>\n",
              "      <td>4</td>\n",
              "      <td>157</td>\n",
              "      <td>2</td>\n",
              "      <td>0</td>\n",
              "      <td>...</td>\n",
              "      <td>900</td>\n",
              "      <td>2</td>\n",
              "      <td>1</td>\n",
              "      <td>95</td>\n",
              "      <td>6000</td>\n",
              "      <td>6000</td>\n",
              "      <td>30000</td>\n",
              "      <td>22.741608</td>\n",
              "      <td>75.804863</td>\n",
              "      <td>1</td>\n",
              "    </tr>\n",
              "    <tr>\n",
              "      <th>1870</th>\n",
              "      <td>269421</td>\n",
              "      <td>27</td>\n",
              "      <td>438</td>\n",
              "      <td>8</td>\n",
              "      <td>702</td>\n",
              "      <td>4</td>\n",
              "      <td>4</td>\n",
              "      <td>241</td>\n",
              "      <td>2</td>\n",
              "      <td>0</td>\n",
              "      <td>...</td>\n",
              "      <td>1200</td>\n",
              "      <td>1</td>\n",
              "      <td>1</td>\n",
              "      <td>95</td>\n",
              "      <td>20450</td>\n",
              "      <td>20450</td>\n",
              "      <td>20450</td>\n",
              "      <td>28.574446</td>\n",
              "      <td>77.245575</td>\n",
              "      <td>1</td>\n",
              "    </tr>\n",
              "    <tr>\n",
              "      <th>1871</th>\n",
              "      <td>337604</td>\n",
              "      <td>27</td>\n",
              "      <td>420</td>\n",
              "      <td>7</td>\n",
              "      <td>1149</td>\n",
              "      <td>3</td>\n",
              "      <td>5</td>\n",
              "      <td>21</td>\n",
              "      <td>3</td>\n",
              "      <td>0</td>\n",
              "      <td>...</td>\n",
              "      <td>1300</td>\n",
              "      <td>3</td>\n",
              "      <td>0</td>\n",
              "      <td>15</td>\n",
              "      <td>46666</td>\n",
              "      <td>46666</td>\n",
              "      <td>116665</td>\n",
              "      <td>19.119131</td>\n",
              "      <td>72.842255</td>\n",
              "      <td>4</td>\n",
              "    </tr>\n",
              "    <tr>\n",
              "      <th>1872</th>\n",
              "      <td>169997</td>\n",
              "      <td>32</td>\n",
              "      <td>897</td>\n",
              "      <td>5</td>\n",
              "      <td>632</td>\n",
              "      <td>6</td>\n",
              "      <td>11</td>\n",
              "      <td>164</td>\n",
              "      <td>1</td>\n",
              "      <td>1</td>\n",
              "      <td>...</td>\n",
              "      <td>225</td>\n",
              "      <td>1</td>\n",
              "      <td>1</td>\n",
              "      <td>95</td>\n",
              "      <td>10000</td>\n",
              "      <td>10000</td>\n",
              "      <td>20000</td>\n",
              "      <td>17.483395</td>\n",
              "      <td>78.390640</td>\n",
              "      <td>1</td>\n",
              "    </tr>\n",
              "  </tbody>\n",
              "</table>\n",
              "<p>1873 rows × 23 columns</p>\n",
              "</div>\n",
              "    <div class=\"colab-df-buttons\">\n",
              "\n",
              "  <div class=\"colab-df-container\">\n",
              "    <button class=\"colab-df-convert\" onclick=\"convertToInteractive('df-4ee22104-2514-4f39-89f6-39181e7ffb2b')\"\n",
              "            title=\"Convert this dataframe to an interactive table.\"\n",
              "            style=\"display:none;\">\n",
              "\n",
              "  <svg xmlns=\"http://www.w3.org/2000/svg\" height=\"24px\" viewBox=\"0 -960 960 960\">\n",
              "    <path d=\"M120-120v-720h720v720H120Zm60-500h600v-160H180v160Zm220 220h160v-160H400v160Zm0 220h160v-160H400v160ZM180-400h160v-160H180v160Zm440 0h160v-160H620v160ZM180-180h160v-160H180v160Zm440 0h160v-160H620v160Z\"/>\n",
              "  </svg>\n",
              "    </button>\n",
              "\n",
              "  <style>\n",
              "    .colab-df-container {\n",
              "      display:flex;\n",
              "      gap: 12px;\n",
              "    }\n",
              "\n",
              "    .colab-df-convert {\n",
              "      background-color: #E8F0FE;\n",
              "      border: none;\n",
              "      border-radius: 50%;\n",
              "      cursor: pointer;\n",
              "      display: none;\n",
              "      fill: #1967D2;\n",
              "      height: 32px;\n",
              "      padding: 0 0 0 0;\n",
              "      width: 32px;\n",
              "    }\n",
              "\n",
              "    .colab-df-convert:hover {\n",
              "      background-color: #E2EBFA;\n",
              "      box-shadow: 0px 1px 2px rgba(60, 64, 67, 0.3), 0px 1px 3px 1px rgba(60, 64, 67, 0.15);\n",
              "      fill: #174EA6;\n",
              "    }\n",
              "\n",
              "    .colab-df-buttons div {\n",
              "      margin-bottom: 4px;\n",
              "    }\n",
              "\n",
              "    [theme=dark] .colab-df-convert {\n",
              "      background-color: #3B4455;\n",
              "      fill: #D2E3FC;\n",
              "    }\n",
              "\n",
              "    [theme=dark] .colab-df-convert:hover {\n",
              "      background-color: #434B5C;\n",
              "      box-shadow: 0px 1px 3px 1px rgba(0, 0, 0, 0.15);\n",
              "      filter: drop-shadow(0px 1px 2px rgba(0, 0, 0, 0.3));\n",
              "      fill: #FFFFFF;\n",
              "    }\n",
              "  </style>\n",
              "\n",
              "    <script>\n",
              "      const buttonEl =\n",
              "        document.querySelector('#df-4ee22104-2514-4f39-89f6-39181e7ffb2b button.colab-df-convert');\n",
              "      buttonEl.style.display =\n",
              "        google.colab.kernel.accessAllowed ? 'block' : 'none';\n",
              "\n",
              "      async function convertToInteractive(key) {\n",
              "        const element = document.querySelector('#df-4ee22104-2514-4f39-89f6-39181e7ffb2b');\n",
              "        const dataTable =\n",
              "          await google.colab.kernel.invokeFunction('convertToInteractive',\n",
              "                                                    [key], {});\n",
              "        if (!dataTable) return;\n",
              "\n",
              "        const docLinkHtml = 'Like what you see? Visit the ' +\n",
              "          '<a target=\"_blank\" href=https://colab.research.google.com/notebooks/data_table.ipynb>data table notebook</a>'\n",
              "          + ' to learn more about interactive tables.';\n",
              "        element.innerHTML = '';\n",
              "        dataTable['output_type'] = 'display_data';\n",
              "        await google.colab.output.renderOutput(dataTable, element);\n",
              "        const docLink = document.createElement('div');\n",
              "        docLink.innerHTML = docLinkHtml;\n",
              "        element.appendChild(docLink);\n",
              "      }\n",
              "    </script>\n",
              "  </div>\n",
              "\n",
              "\n",
              "<div id=\"df-f38bf20e-b581-42f3-b698-0ed26efa8097\">\n",
              "  <button class=\"colab-df-quickchart\" onclick=\"quickchart('df-f38bf20e-b581-42f3-b698-0ed26efa8097')\"\n",
              "            title=\"Suggest charts\"\n",
              "            style=\"display:none;\">\n",
              "\n",
              "<svg xmlns=\"http://www.w3.org/2000/svg\" height=\"24px\"viewBox=\"0 0 24 24\"\n",
              "     width=\"24px\">\n",
              "    <g>\n",
              "        <path d=\"M19 3H5c-1.1 0-2 .9-2 2v14c0 1.1.9 2 2 2h14c1.1 0 2-.9 2-2V5c0-1.1-.9-2-2-2zM9 17H7v-7h2v7zm4 0h-2V7h2v10zm4 0h-2v-4h2v4z\"/>\n",
              "    </g>\n",
              "</svg>\n",
              "  </button>\n",
              "\n",
              "<style>\n",
              "  .colab-df-quickchart {\n",
              "      --bg-color: #E8F0FE;\n",
              "      --fill-color: #1967D2;\n",
              "      --hover-bg-color: #E2EBFA;\n",
              "      --hover-fill-color: #174EA6;\n",
              "      --disabled-fill-color: #AAA;\n",
              "      --disabled-bg-color: #DDD;\n",
              "  }\n",
              "\n",
              "  [theme=dark] .colab-df-quickchart {\n",
              "      --bg-color: #3B4455;\n",
              "      --fill-color: #D2E3FC;\n",
              "      --hover-bg-color: #434B5C;\n",
              "      --hover-fill-color: #FFFFFF;\n",
              "      --disabled-bg-color: #3B4455;\n",
              "      --disabled-fill-color: #666;\n",
              "  }\n",
              "\n",
              "  .colab-df-quickchart {\n",
              "    background-color: var(--bg-color);\n",
              "    border: none;\n",
              "    border-radius: 50%;\n",
              "    cursor: pointer;\n",
              "    display: none;\n",
              "    fill: var(--fill-color);\n",
              "    height: 32px;\n",
              "    padding: 0;\n",
              "    width: 32px;\n",
              "  }\n",
              "\n",
              "  .colab-df-quickchart:hover {\n",
              "    background-color: var(--hover-bg-color);\n",
              "    box-shadow: 0 1px 2px rgba(60, 64, 67, 0.3), 0 1px 3px 1px rgba(60, 64, 67, 0.15);\n",
              "    fill: var(--button-hover-fill-color);\n",
              "  }\n",
              "\n",
              "  .colab-df-quickchart-complete:disabled,\n",
              "  .colab-df-quickchart-complete:disabled:hover {\n",
              "    background-color: var(--disabled-bg-color);\n",
              "    fill: var(--disabled-fill-color);\n",
              "    box-shadow: none;\n",
              "  }\n",
              "\n",
              "  .colab-df-spinner {\n",
              "    border: 2px solid var(--fill-color);\n",
              "    border-color: transparent;\n",
              "    border-bottom-color: var(--fill-color);\n",
              "    animation:\n",
              "      spin 1s steps(1) infinite;\n",
              "  }\n",
              "\n",
              "  @keyframes spin {\n",
              "    0% {\n",
              "      border-color: transparent;\n",
              "      border-bottom-color: var(--fill-color);\n",
              "      border-left-color: var(--fill-color);\n",
              "    }\n",
              "    20% {\n",
              "      border-color: transparent;\n",
              "      border-left-color: var(--fill-color);\n",
              "      border-top-color: var(--fill-color);\n",
              "    }\n",
              "    30% {\n",
              "      border-color: transparent;\n",
              "      border-left-color: var(--fill-color);\n",
              "      border-top-color: var(--fill-color);\n",
              "      border-right-color: var(--fill-color);\n",
              "    }\n",
              "    40% {\n",
              "      border-color: transparent;\n",
              "      border-right-color: var(--fill-color);\n",
              "      border-top-color: var(--fill-color);\n",
              "    }\n",
              "    60% {\n",
              "      border-color: transparent;\n",
              "      border-right-color: var(--fill-color);\n",
              "    }\n",
              "    80% {\n",
              "      border-color: transparent;\n",
              "      border-right-color: var(--fill-color);\n",
              "      border-bottom-color: var(--fill-color);\n",
              "    }\n",
              "    90% {\n",
              "      border-color: transparent;\n",
              "      border-bottom-color: var(--fill-color);\n",
              "    }\n",
              "  }\n",
              "</style>\n",
              "\n",
              "  <script>\n",
              "    async function quickchart(key) {\n",
              "      const quickchartButtonEl =\n",
              "        document.querySelector('#' + key + ' button');\n",
              "      quickchartButtonEl.disabled = true;  // To prevent multiple clicks.\n",
              "      quickchartButtonEl.classList.add('colab-df-spinner');\n",
              "      try {\n",
              "        const charts = await google.colab.kernel.invokeFunction(\n",
              "            'suggestCharts', [key], {});\n",
              "      } catch (error) {\n",
              "        console.error('Error during call to suggestCharts:', error);\n",
              "      }\n",
              "      quickchartButtonEl.classList.remove('colab-df-spinner');\n",
              "      quickchartButtonEl.classList.add('colab-df-quickchart-complete');\n",
              "    }\n",
              "    (() => {\n",
              "      let quickchartButtonEl =\n",
              "        document.querySelector('#df-f38bf20e-b581-42f3-b698-0ed26efa8097 button');\n",
              "      quickchartButtonEl.style.display =\n",
              "        google.colab.kernel.accessAllowed ? 'block' : 'none';\n",
              "    })();\n",
              "  </script>\n",
              "</div>\n",
              "    </div>\n",
              "  </div>\n"
            ]
          },
          "metadata": {},
          "execution_count": 90
        }
      ]
    },
    {
      "cell_type": "markdown",
      "source": [
        "# 5. Проведение нормализации\n",
        "Перед применением алгоритмов машинного обучения количественные признаки полезно нормализовать.\n",
        "\n",
        "Наиболее часто используют один из трех следующих способов:\n",
        "\n",
        "приведение к отрезку [0,1] - это линейное преобразование, приводящее все значения к заданному отрезку; стандартизация - линейное преобразование, приводящее все значения к нулевому среднему и единичному стандартному отклонению; нормализация - приведение данных к единичной норме.\n",
        "\n",
        "Выполним стандартизацию всех признаков:"
      ],
      "metadata": {
        "id": "vTeJbR4tA41F"
      }
    },
    {
      "cell_type": "code",
      "source": [
        "data_numeric = df\n",
        "for i in data_raw:\n",
        "    if i in data_numeric:\n",
        "        data_raw[i] = (data_raw[i]-data_raw[i].mean())/data_raw[i].std()\n",
        "data_raw"
      ],
      "metadata": {
        "colab": {
          "base_uri": "https://localhost:8080/",
          "height": 461
        },
        "id": "fuQUZEv3A62w",
        "outputId": "c072ad6a-3375-4db1-a3fd-3de57917d80e"
      },
      "execution_count": 91,
      "outputs": [
        {
          "output_type": "execute_result",
          "data": {
            "text/plain": [
              "          id  establishedYear  title  city  description  houseType  bhkType  \\\n",
              "0       3814               32     42    10           93          1        4   \n",
              "1      11845               32   1026     5          457          4        4   \n",
              "2     340222               22   1235     7           80          3        6   \n",
              "3     260247               33    689     0         1512          0        1   \n",
              "4     355316               35    558     2         1078          3        1   \n",
              "...      ...              ...    ...   ...          ...        ...      ...   \n",
              "1868  303764               32    750     5         1144          4        5   \n",
              "1869  253431               21    624     6         1540          4        4   \n",
              "1870  269421               27    438     8          702          4        4   \n",
              "1871  337604               27    420     7         1149          3        5   \n",
              "1872  169997               32    897     5          632          6       11   \n",
              "\n",
              "      address    shared  bedAvailable  ...  area(sq-fit)  bathroomCount  \\\n",
              "0         128  1.232498     -0.497274  ...      0.184926      -0.463517   \n",
              "1         238  1.232498     -0.497274  ...      0.643316      -0.463517   \n",
              "2         459  1.232498     -0.497274  ...      0.337723       0.627146   \n",
              "3           5 -0.854096     -0.497274  ...     -0.579056      -0.463517   \n",
              "4         279 -0.854096     -0.497274  ...     -0.731853      -0.463517   \n",
              "...       ...       ...           ...  ...           ...            ...   \n",
              "1868      120  0.536967     -0.497274  ...      1.254501       1.717808   \n",
              "1869      157 -0.158565     -0.497274  ...     -0.120667       0.627146   \n",
              "1870      241 -0.158565     -0.497274  ...      0.337723      -0.463517   \n",
              "1871       21  0.536967     -0.497274  ...      0.490519       1.717808   \n",
              "1872      164 -0.854096      0.971803  ...     -1.152043      -0.463517   \n",
              "\n",
              "      furnishingType  facilities  minRent(Rs)  minRoomRent(Rs)  \\\n",
              "0                  0          58    -0.679652        -0.303106   \n",
              "1                  0          91    -0.334764         0.109744   \n",
              "2                  0           9     1.438876         0.853453   \n",
              "3                  1          95     1.018122         0.460436   \n",
              "4                  1          95    -0.147043        -0.627919   \n",
              "...              ...         ...          ...              ...   \n",
              "1868               0          92     0.629734         0.097651   \n",
              "1869               1          95    -0.664894        -1.111632   \n",
              "1870               1          95     1.205843         0.635782   \n",
              "1871               0          15     4.599837         3.806038   \n",
              "1872               1          95    -0.147043        -0.627919   \n",
              "\n",
              "      minRoomAdvance(Rs)        lat       long  available_from  \n",
              "0                  25372  18.526085  73.908905               4  \n",
              "1                  32200  17.499052  78.392693              38  \n",
              "2                  77875  19.052172  72.875252               4  \n",
              "3                  57000  12.958700  77.655403               1  \n",
              "4                  60000  13.036417  77.557220               1  \n",
              "...                  ...        ...        ...             ...  \n",
              "1868               32000  17.439747  78.329826               1  \n",
              "1869               30000  22.741608  75.804863               1  \n",
              "1870               20450  28.574446  77.245575               1  \n",
              "1871              116665  19.119131  72.842255               4  \n",
              "1872               20000  17.483395  78.390640               1  \n",
              "\n",
              "[1873 rows x 23 columns]"
            ],
            "text/html": [
              "\n",
              "  <div id=\"df-6544d4df-4935-4c7b-b415-18e4449a2ab1\" class=\"colab-df-container\">\n",
              "    <div>\n",
              "<style scoped>\n",
              "    .dataframe tbody tr th:only-of-type {\n",
              "        vertical-align: middle;\n",
              "    }\n",
              "\n",
              "    .dataframe tbody tr th {\n",
              "        vertical-align: top;\n",
              "    }\n",
              "\n",
              "    .dataframe thead th {\n",
              "        text-align: right;\n",
              "    }\n",
              "</style>\n",
              "<table border=\"1\" class=\"dataframe\">\n",
              "  <thead>\n",
              "    <tr style=\"text-align: right;\">\n",
              "      <th></th>\n",
              "      <th>id</th>\n",
              "      <th>establishedYear</th>\n",
              "      <th>title</th>\n",
              "      <th>city</th>\n",
              "      <th>description</th>\n",
              "      <th>houseType</th>\n",
              "      <th>bhkType</th>\n",
              "      <th>address</th>\n",
              "      <th>shared</th>\n",
              "      <th>bedAvailable</th>\n",
              "      <th>...</th>\n",
              "      <th>area(sq-fit)</th>\n",
              "      <th>bathroomCount</th>\n",
              "      <th>furnishingType</th>\n",
              "      <th>facilities</th>\n",
              "      <th>minRent(Rs)</th>\n",
              "      <th>minRoomRent(Rs)</th>\n",
              "      <th>minRoomAdvance(Rs)</th>\n",
              "      <th>lat</th>\n",
              "      <th>long</th>\n",
              "      <th>available_from</th>\n",
              "    </tr>\n",
              "  </thead>\n",
              "  <tbody>\n",
              "    <tr>\n",
              "      <th>0</th>\n",
              "      <td>3814</td>\n",
              "      <td>32</td>\n",
              "      <td>42</td>\n",
              "      <td>10</td>\n",
              "      <td>93</td>\n",
              "      <td>1</td>\n",
              "      <td>4</td>\n",
              "      <td>128</td>\n",
              "      <td>1.232498</td>\n",
              "      <td>-0.497274</td>\n",
              "      <td>...</td>\n",
              "      <td>0.184926</td>\n",
              "      <td>-0.463517</td>\n",
              "      <td>0</td>\n",
              "      <td>58</td>\n",
              "      <td>-0.679652</td>\n",
              "      <td>-0.303106</td>\n",
              "      <td>25372</td>\n",
              "      <td>18.526085</td>\n",
              "      <td>73.908905</td>\n",
              "      <td>4</td>\n",
              "    </tr>\n",
              "    <tr>\n",
              "      <th>1</th>\n",
              "      <td>11845</td>\n",
              "      <td>32</td>\n",
              "      <td>1026</td>\n",
              "      <td>5</td>\n",
              "      <td>457</td>\n",
              "      <td>4</td>\n",
              "      <td>4</td>\n",
              "      <td>238</td>\n",
              "      <td>1.232498</td>\n",
              "      <td>-0.497274</td>\n",
              "      <td>...</td>\n",
              "      <td>0.643316</td>\n",
              "      <td>-0.463517</td>\n",
              "      <td>0</td>\n",
              "      <td>91</td>\n",
              "      <td>-0.334764</td>\n",
              "      <td>0.109744</td>\n",
              "      <td>32200</td>\n",
              "      <td>17.499052</td>\n",
              "      <td>78.392693</td>\n",
              "      <td>38</td>\n",
              "    </tr>\n",
              "    <tr>\n",
              "      <th>2</th>\n",
              "      <td>340222</td>\n",
              "      <td>22</td>\n",
              "      <td>1235</td>\n",
              "      <td>7</td>\n",
              "      <td>80</td>\n",
              "      <td>3</td>\n",
              "      <td>6</td>\n",
              "      <td>459</td>\n",
              "      <td>1.232498</td>\n",
              "      <td>-0.497274</td>\n",
              "      <td>...</td>\n",
              "      <td>0.337723</td>\n",
              "      <td>0.627146</td>\n",
              "      <td>0</td>\n",
              "      <td>9</td>\n",
              "      <td>1.438876</td>\n",
              "      <td>0.853453</td>\n",
              "      <td>77875</td>\n",
              "      <td>19.052172</td>\n",
              "      <td>72.875252</td>\n",
              "      <td>4</td>\n",
              "    </tr>\n",
              "    <tr>\n",
              "      <th>3</th>\n",
              "      <td>260247</td>\n",
              "      <td>33</td>\n",
              "      <td>689</td>\n",
              "      <td>0</td>\n",
              "      <td>1512</td>\n",
              "      <td>0</td>\n",
              "      <td>1</td>\n",
              "      <td>5</td>\n",
              "      <td>-0.854096</td>\n",
              "      <td>-0.497274</td>\n",
              "      <td>...</td>\n",
              "      <td>-0.579056</td>\n",
              "      <td>-0.463517</td>\n",
              "      <td>1</td>\n",
              "      <td>95</td>\n",
              "      <td>1.018122</td>\n",
              "      <td>0.460436</td>\n",
              "      <td>57000</td>\n",
              "      <td>12.958700</td>\n",
              "      <td>77.655403</td>\n",
              "      <td>1</td>\n",
              "    </tr>\n",
              "    <tr>\n",
              "      <th>4</th>\n",
              "      <td>355316</td>\n",
              "      <td>35</td>\n",
              "      <td>558</td>\n",
              "      <td>2</td>\n",
              "      <td>1078</td>\n",
              "      <td>3</td>\n",
              "      <td>1</td>\n",
              "      <td>279</td>\n",
              "      <td>-0.854096</td>\n",
              "      <td>-0.497274</td>\n",
              "      <td>...</td>\n",
              "      <td>-0.731853</td>\n",
              "      <td>-0.463517</td>\n",
              "      <td>1</td>\n",
              "      <td>95</td>\n",
              "      <td>-0.147043</td>\n",
              "      <td>-0.627919</td>\n",
              "      <td>60000</td>\n",
              "      <td>13.036417</td>\n",
              "      <td>77.557220</td>\n",
              "      <td>1</td>\n",
              "    </tr>\n",
              "    <tr>\n",
              "      <th>...</th>\n",
              "      <td>...</td>\n",
              "      <td>...</td>\n",
              "      <td>...</td>\n",
              "      <td>...</td>\n",
              "      <td>...</td>\n",
              "      <td>...</td>\n",
              "      <td>...</td>\n",
              "      <td>...</td>\n",
              "      <td>...</td>\n",
              "      <td>...</td>\n",
              "      <td>...</td>\n",
              "      <td>...</td>\n",
              "      <td>...</td>\n",
              "      <td>...</td>\n",
              "      <td>...</td>\n",
              "      <td>...</td>\n",
              "      <td>...</td>\n",
              "      <td>...</td>\n",
              "      <td>...</td>\n",
              "      <td>...</td>\n",
              "      <td>...</td>\n",
              "    </tr>\n",
              "    <tr>\n",
              "      <th>1868</th>\n",
              "      <td>303764</td>\n",
              "      <td>32</td>\n",
              "      <td>750</td>\n",
              "      <td>5</td>\n",
              "      <td>1144</td>\n",
              "      <td>4</td>\n",
              "      <td>5</td>\n",
              "      <td>120</td>\n",
              "      <td>0.536967</td>\n",
              "      <td>-0.497274</td>\n",
              "      <td>...</td>\n",
              "      <td>1.254501</td>\n",
              "      <td>1.717808</td>\n",
              "      <td>0</td>\n",
              "      <td>92</td>\n",
              "      <td>0.629734</td>\n",
              "      <td>0.097651</td>\n",
              "      <td>32000</td>\n",
              "      <td>17.439747</td>\n",
              "      <td>78.329826</td>\n",
              "      <td>1</td>\n",
              "    </tr>\n",
              "    <tr>\n",
              "      <th>1869</th>\n",
              "      <td>253431</td>\n",
              "      <td>21</td>\n",
              "      <td>624</td>\n",
              "      <td>6</td>\n",
              "      <td>1540</td>\n",
              "      <td>4</td>\n",
              "      <td>4</td>\n",
              "      <td>157</td>\n",
              "      <td>-0.158565</td>\n",
              "      <td>-0.497274</td>\n",
              "      <td>...</td>\n",
              "      <td>-0.120667</td>\n",
              "      <td>0.627146</td>\n",
              "      <td>1</td>\n",
              "      <td>95</td>\n",
              "      <td>-0.664894</td>\n",
              "      <td>-1.111632</td>\n",
              "      <td>30000</td>\n",
              "      <td>22.741608</td>\n",
              "      <td>75.804863</td>\n",
              "      <td>1</td>\n",
              "    </tr>\n",
              "    <tr>\n",
              "      <th>1870</th>\n",
              "      <td>269421</td>\n",
              "      <td>27</td>\n",
              "      <td>438</td>\n",
              "      <td>8</td>\n",
              "      <td>702</td>\n",
              "      <td>4</td>\n",
              "      <td>4</td>\n",
              "      <td>241</td>\n",
              "      <td>-0.158565</td>\n",
              "      <td>-0.497274</td>\n",
              "      <td>...</td>\n",
              "      <td>0.337723</td>\n",
              "      <td>-0.463517</td>\n",
              "      <td>1</td>\n",
              "      <td>95</td>\n",
              "      <td>1.205843</td>\n",
              "      <td>0.635782</td>\n",
              "      <td>20450</td>\n",
              "      <td>28.574446</td>\n",
              "      <td>77.245575</td>\n",
              "      <td>1</td>\n",
              "    </tr>\n",
              "    <tr>\n",
              "      <th>1871</th>\n",
              "      <td>337604</td>\n",
              "      <td>27</td>\n",
              "      <td>420</td>\n",
              "      <td>7</td>\n",
              "      <td>1149</td>\n",
              "      <td>3</td>\n",
              "      <td>5</td>\n",
              "      <td>21</td>\n",
              "      <td>0.536967</td>\n",
              "      <td>-0.497274</td>\n",
              "      <td>...</td>\n",
              "      <td>0.490519</td>\n",
              "      <td>1.717808</td>\n",
              "      <td>0</td>\n",
              "      <td>15</td>\n",
              "      <td>4.599837</td>\n",
              "      <td>3.806038</td>\n",
              "      <td>116665</td>\n",
              "      <td>19.119131</td>\n",
              "      <td>72.842255</td>\n",
              "      <td>4</td>\n",
              "    </tr>\n",
              "    <tr>\n",
              "      <th>1872</th>\n",
              "      <td>169997</td>\n",
              "      <td>32</td>\n",
              "      <td>897</td>\n",
              "      <td>5</td>\n",
              "      <td>632</td>\n",
              "      <td>6</td>\n",
              "      <td>11</td>\n",
              "      <td>164</td>\n",
              "      <td>-0.854096</td>\n",
              "      <td>0.971803</td>\n",
              "      <td>...</td>\n",
              "      <td>-1.152043</td>\n",
              "      <td>-0.463517</td>\n",
              "      <td>1</td>\n",
              "      <td>95</td>\n",
              "      <td>-0.147043</td>\n",
              "      <td>-0.627919</td>\n",
              "      <td>20000</td>\n",
              "      <td>17.483395</td>\n",
              "      <td>78.390640</td>\n",
              "      <td>1</td>\n",
              "    </tr>\n",
              "  </tbody>\n",
              "</table>\n",
              "<p>1873 rows × 23 columns</p>\n",
              "</div>\n",
              "    <div class=\"colab-df-buttons\">\n",
              "\n",
              "  <div class=\"colab-df-container\">\n",
              "    <button class=\"colab-df-convert\" onclick=\"convertToInteractive('df-6544d4df-4935-4c7b-b415-18e4449a2ab1')\"\n",
              "            title=\"Convert this dataframe to an interactive table.\"\n",
              "            style=\"display:none;\">\n",
              "\n",
              "  <svg xmlns=\"http://www.w3.org/2000/svg\" height=\"24px\" viewBox=\"0 -960 960 960\">\n",
              "    <path d=\"M120-120v-720h720v720H120Zm60-500h600v-160H180v160Zm220 220h160v-160H400v160Zm0 220h160v-160H400v160ZM180-400h160v-160H180v160Zm440 0h160v-160H620v160ZM180-180h160v-160H180v160Zm440 0h160v-160H620v160Z\"/>\n",
              "  </svg>\n",
              "    </button>\n",
              "\n",
              "  <style>\n",
              "    .colab-df-container {\n",
              "      display:flex;\n",
              "      gap: 12px;\n",
              "    }\n",
              "\n",
              "    .colab-df-convert {\n",
              "      background-color: #E8F0FE;\n",
              "      border: none;\n",
              "      border-radius: 50%;\n",
              "      cursor: pointer;\n",
              "      display: none;\n",
              "      fill: #1967D2;\n",
              "      height: 32px;\n",
              "      padding: 0 0 0 0;\n",
              "      width: 32px;\n",
              "    }\n",
              "\n",
              "    .colab-df-convert:hover {\n",
              "      background-color: #E2EBFA;\n",
              "      box-shadow: 0px 1px 2px rgba(60, 64, 67, 0.3), 0px 1px 3px 1px rgba(60, 64, 67, 0.15);\n",
              "      fill: #174EA6;\n",
              "    }\n",
              "\n",
              "    .colab-df-buttons div {\n",
              "      margin-bottom: 4px;\n",
              "    }\n",
              "\n",
              "    [theme=dark] .colab-df-convert {\n",
              "      background-color: #3B4455;\n",
              "      fill: #D2E3FC;\n",
              "    }\n",
              "\n",
              "    [theme=dark] .colab-df-convert:hover {\n",
              "      background-color: #434B5C;\n",
              "      box-shadow: 0px 1px 3px 1px rgba(0, 0, 0, 0.15);\n",
              "      filter: drop-shadow(0px 1px 2px rgba(0, 0, 0, 0.3));\n",
              "      fill: #FFFFFF;\n",
              "    }\n",
              "  </style>\n",
              "\n",
              "    <script>\n",
              "      const buttonEl =\n",
              "        document.querySelector('#df-6544d4df-4935-4c7b-b415-18e4449a2ab1 button.colab-df-convert');\n",
              "      buttonEl.style.display =\n",
              "        google.colab.kernel.accessAllowed ? 'block' : 'none';\n",
              "\n",
              "      async function convertToInteractive(key) {\n",
              "        const element = document.querySelector('#df-6544d4df-4935-4c7b-b415-18e4449a2ab1');\n",
              "        const dataTable =\n",
              "          await google.colab.kernel.invokeFunction('convertToInteractive',\n",
              "                                                    [key], {});\n",
              "        if (!dataTable) return;\n",
              "\n",
              "        const docLinkHtml = 'Like what you see? Visit the ' +\n",
              "          '<a target=\"_blank\" href=https://colab.research.google.com/notebooks/data_table.ipynb>data table notebook</a>'\n",
              "          + ' to learn more about interactive tables.';\n",
              "        element.innerHTML = '';\n",
              "        dataTable['output_type'] = 'display_data';\n",
              "        await google.colab.output.renderOutput(dataTable, element);\n",
              "        const docLink = document.createElement('div');\n",
              "        docLink.innerHTML = docLinkHtml;\n",
              "        element.appendChild(docLink);\n",
              "      }\n",
              "    </script>\n",
              "  </div>\n",
              "\n",
              "\n",
              "<div id=\"df-114cf6d5-2bbc-4060-8d8c-e341cc79ca0e\">\n",
              "  <button class=\"colab-df-quickchart\" onclick=\"quickchart('df-114cf6d5-2bbc-4060-8d8c-e341cc79ca0e')\"\n",
              "            title=\"Suggest charts\"\n",
              "            style=\"display:none;\">\n",
              "\n",
              "<svg xmlns=\"http://www.w3.org/2000/svg\" height=\"24px\"viewBox=\"0 0 24 24\"\n",
              "     width=\"24px\">\n",
              "    <g>\n",
              "        <path d=\"M19 3H5c-1.1 0-2 .9-2 2v14c0 1.1.9 2 2 2h14c1.1 0 2-.9 2-2V5c0-1.1-.9-2-2-2zM9 17H7v-7h2v7zm4 0h-2V7h2v10zm4 0h-2v-4h2v4z\"/>\n",
              "    </g>\n",
              "</svg>\n",
              "  </button>\n",
              "\n",
              "<style>\n",
              "  .colab-df-quickchart {\n",
              "      --bg-color: #E8F0FE;\n",
              "      --fill-color: #1967D2;\n",
              "      --hover-bg-color: #E2EBFA;\n",
              "      --hover-fill-color: #174EA6;\n",
              "      --disabled-fill-color: #AAA;\n",
              "      --disabled-bg-color: #DDD;\n",
              "  }\n",
              "\n",
              "  [theme=dark] .colab-df-quickchart {\n",
              "      --bg-color: #3B4455;\n",
              "      --fill-color: #D2E3FC;\n",
              "      --hover-bg-color: #434B5C;\n",
              "      --hover-fill-color: #FFFFFF;\n",
              "      --disabled-bg-color: #3B4455;\n",
              "      --disabled-fill-color: #666;\n",
              "  }\n",
              "\n",
              "  .colab-df-quickchart {\n",
              "    background-color: var(--bg-color);\n",
              "    border: none;\n",
              "    border-radius: 50%;\n",
              "    cursor: pointer;\n",
              "    display: none;\n",
              "    fill: var(--fill-color);\n",
              "    height: 32px;\n",
              "    padding: 0;\n",
              "    width: 32px;\n",
              "  }\n",
              "\n",
              "  .colab-df-quickchart:hover {\n",
              "    background-color: var(--hover-bg-color);\n",
              "    box-shadow: 0 1px 2px rgba(60, 64, 67, 0.3), 0 1px 3px 1px rgba(60, 64, 67, 0.15);\n",
              "    fill: var(--button-hover-fill-color);\n",
              "  }\n",
              "\n",
              "  .colab-df-quickchart-complete:disabled,\n",
              "  .colab-df-quickchart-complete:disabled:hover {\n",
              "    background-color: var(--disabled-bg-color);\n",
              "    fill: var(--disabled-fill-color);\n",
              "    box-shadow: none;\n",
              "  }\n",
              "\n",
              "  .colab-df-spinner {\n",
              "    border: 2px solid var(--fill-color);\n",
              "    border-color: transparent;\n",
              "    border-bottom-color: var(--fill-color);\n",
              "    animation:\n",
              "      spin 1s steps(1) infinite;\n",
              "  }\n",
              "\n",
              "  @keyframes spin {\n",
              "    0% {\n",
              "      border-color: transparent;\n",
              "      border-bottom-color: var(--fill-color);\n",
              "      border-left-color: var(--fill-color);\n",
              "    }\n",
              "    20% {\n",
              "      border-color: transparent;\n",
              "      border-left-color: var(--fill-color);\n",
              "      border-top-color: var(--fill-color);\n",
              "    }\n",
              "    30% {\n",
              "      border-color: transparent;\n",
              "      border-left-color: var(--fill-color);\n",
              "      border-top-color: var(--fill-color);\n",
              "      border-right-color: var(--fill-color);\n",
              "    }\n",
              "    40% {\n",
              "      border-color: transparent;\n",
              "      border-right-color: var(--fill-color);\n",
              "      border-top-color: var(--fill-color);\n",
              "    }\n",
              "    60% {\n",
              "      border-color: transparent;\n",
              "      border-right-color: var(--fill-color);\n",
              "    }\n",
              "    80% {\n",
              "      border-color: transparent;\n",
              "      border-right-color: var(--fill-color);\n",
              "      border-bottom-color: var(--fill-color);\n",
              "    }\n",
              "    90% {\n",
              "      border-color: transparent;\n",
              "      border-bottom-color: var(--fill-color);\n",
              "    }\n",
              "  }\n",
              "</style>\n",
              "\n",
              "  <script>\n",
              "    async function quickchart(key) {\n",
              "      const quickchartButtonEl =\n",
              "        document.querySelector('#' + key + ' button');\n",
              "      quickchartButtonEl.disabled = true;  // To prevent multiple clicks.\n",
              "      quickchartButtonEl.classList.add('colab-df-spinner');\n",
              "      try {\n",
              "        const charts = await google.colab.kernel.invokeFunction(\n",
              "            'suggestCharts', [key], {});\n",
              "      } catch (error) {\n",
              "        console.error('Error during call to suggestCharts:', error);\n",
              "      }\n",
              "      quickchartButtonEl.classList.remove('colab-df-spinner');\n",
              "      quickchartButtonEl.classList.add('colab-df-quickchart-complete');\n",
              "    }\n",
              "    (() => {\n",
              "      let quickchartButtonEl =\n",
              "        document.querySelector('#df-114cf6d5-2bbc-4060-8d8c-e341cc79ca0e button');\n",
              "      quickchartButtonEl.style.display =\n",
              "        google.colab.kernel.accessAllowed ? 'block' : 'none';\n",
              "    })();\n",
              "  </script>\n",
              "</div>\n",
              "    </div>\n",
              "  </div>\n"
            ]
          },
          "metadata": {},
          "execution_count": 91
        }
      ]
    },
    {
      "cell_type": "markdown",
      "source": [
        "# 6. Разбиение данных на обочуающую и тестовую выборки¶"
      ],
      "metadata": {
        "id": "MnfhxWasA8qQ"
      }
    },
    {
      "cell_type": "code",
      "source": [
        "data_raw['houseType'].value_counts()"
      ],
      "metadata": {
        "colab": {
          "base_uri": "https://localhost:8080/"
        },
        "id": "KE3PmKz6A_xs",
        "outputId": "5fa22452-cfbb-4cbe-c087-869868263d9b"
      },
      "execution_count": 92,
      "outputs": [
        {
          "output_type": "execute_result",
          "data": {
            "text/plain": [
              "3    918\n",
              "4    468\n",
              "1    447\n",
              "5     15\n",
              "0     12\n",
              "2      9\n",
              "6      4\n",
              "Name: houseType, dtype: int64"
            ]
          },
          "metadata": {},
          "execution_count": 92
        }
      ]
    },
    {
      "cell_type": "code",
      "source": [
        "x = data_raw.drop(['houseType'], axis=1)\n",
        "y = data_raw['houseType']"
      ],
      "metadata": {
        "id": "Lc4hfVukBCfe"
      },
      "execution_count": 93,
      "outputs": []
    },
    {
      "cell_type": "markdown",
      "source": [
        "Разобьем данные на обучающую и тестовую выборки следующим образом: 70% - обучающая выборка, 30% - тестовая."
      ],
      "metadata": {
        "id": "xCYPplC9BEw6"
      }
    },
    {
      "cell_type": "code",
      "source": [
        "from sklearn.model_selection import train_test_split\n",
        "x_train, x_test, y_train, y_test = train_test_split(x, y, train_size = 0.7, test_size = 0.3, random_state = 52)\n",
        "\n",
        "N_train, _ = x_train.shape\n",
        "N_test,  _ = x_test.shape\n",
        "\n",
        "N_train, N_test"
      ],
      "metadata": {
        "colab": {
          "base_uri": "https://localhost:8080/"
        },
        "id": "upCXwcAWBGA1",
        "outputId": "725f01b9-0502-4423-943e-f7a4c1c8b11e"
      },
      "execution_count": 94,
      "outputs": [
        {
          "output_type": "execute_result",
          "data": {
            "text/plain": [
              "(1311, 562)"
            ]
          },
          "metadata": {},
          "execution_count": 94
        }
      ]
    },
    {
      "cell_type": "markdown",
      "source": [
        "# 7. Обучение выборки"
      ],
      "metadata": {
        "id": "IK7KJbo1BI22"
      }
    },
    {
      "cell_type": "code",
      "source": [
        "knn = KNeighborsClassifier()\n",
        "knn.fit(x_train, y_train)\n",
        "knn_pred = knn.predict(x_test)\n",
        "knn_acc = accuracy_score(y_test, knn_pred)\n",
        "print(\"The training accuracy for KNN is:\", round(knn.score(x_train, y_train)*100, 4), \"%\")\n",
        "print(\"The testing accuracy for KNN is:\", round(knn_acc * 100,2), \"%\")"
      ],
      "metadata": {
        "colab": {
          "base_uri": "https://localhost:8080/"
        },
        "id": "XpEQfyqaBKJN",
        "outputId": "f4ed93d1-bffd-4912-97cd-dd5eafe51afd"
      },
      "execution_count": 95,
      "outputs": [
        {
          "output_type": "stream",
          "name": "stdout",
          "text": [
            "The training accuracy for KNN is: 71.3959 %\n",
            "The testing accuracy for KNN is: 56.05 %\n"
          ]
        }
      ]
    },
    {
      "cell_type": "markdown",
      "source": [
        "Классификатор ближайших соседей"
      ],
      "metadata": {
        "id": "8h3YXV5YBOIl"
      }
    },
    {
      "cell_type": "code",
      "source": [
        "nnb = [1, 2, 3, 4, 5, 6, 7, 8, 9, 10, 12, 14, 16, 18, 20, 25, 35, 45, 55]\n",
        "grid = GridSearchCV(knn, param_grid = {'n_neighbors': nnb}, cv=2)\n",
        "grid.fit(x_train, y_train)\n",
        "\n",
        "best_cv_err = 1 - grid.best_score_\n",
        "best_n_neighbors = grid.best_estimator_.n_neighbors\n",
        "print(best_cv_err, best_n_neighbors)"
      ],
      "metadata": {
        "colab": {
          "base_uri": "https://localhost:8080/"
        },
        "id": "jfbJO73ABOoX",
        "outputId": "3b59ed74-b7b6-4df8-b18e-bd75d3305534"
      },
      "execution_count": 96,
      "outputs": [
        {
          "output_type": "stream",
          "name": "stdout",
          "text": [
            "0.43782582386892566 25\n"
          ]
        }
      ]
    },
    {
      "cell_type": "markdown",
      "source": [
        "0.43782582386892566 25\n",
        "Оптимальное число соседей: 25\n",
        "\n",
        "Ошибка на обучающей выборке: 0.43782582386892566\n",
        "\n",
        "Random forest"
      ],
      "metadata": {
        "id": "PophlRYvBpKC"
      }
    },
    {
      "cell_type": "code",
      "source": [
        "rfc = RandomForestClassifier()\n",
        "rfc.fit(x_train, y_train)\n",
        "rfc_pred = rfc.predict(x_test)\n",
        "rfc_acc = accuracy_score(y_test, rfc_pred)\n",
        "print(\"The training accuracy for Random Forest is:\", round(rfc.score(x_train, y_train)*100,2), \"%\")\n",
        "print(\"The testing accuracy for Random Forest is:\", round(rfc_acc * 100,2), \"%\")"
      ],
      "metadata": {
        "colab": {
          "base_uri": "https://localhost:8080/"
        },
        "id": "evSkB3miBrCF",
        "outputId": "297eed9e-12d9-43b4-9030-ffeac14dfbf9"
      },
      "execution_count": 128,
      "outputs": [
        {
          "output_type": "stream",
          "name": "stdout",
          "text": [
            "The training accuracy for Random Forest is: 100.0 %\n",
            "The testing accuracy for Random Forest is: 81.14 %\n"
          ]
        }
      ]
    },
    {
      "cell_type": "markdown",
      "source": [
        "8. Общие выводы\n",
        "Для выполнении задания был использован датасет INDIAN IT CITIES PROPERTY 2023. Была поставлена задача определить тип жилья, сдаваемого под аренду по представленным критериям.\n",
        "\n",
        "В ходе работы были выполнены следующие задачи:\n",
        "\n",
        "Описана задача, прочитаны данные, визуализированы данные и вычислены основные характеристики, обработаны пропущенные значения, обработаны категориальные признаки, проведена нормализация, данные разбиты на обучающую и тестовую выборки, запущен классификатор ближайших соседей для разных количеств, вычислена ошибка на обучающей и тестовой выборках, запущен классификатор rendom forest, вычислен результат, сделаны выводы\n",
        "\n",
        "Датасет имеет несбалансированные классы:\n",
        "\n",
        "49.0 - Independent Apartment\n",
        "25.0 - Independent House\n",
        "23.8 - Gated Society Apartment\n",
        "0.9 - Independent Villa\n",
        "0.6 - Apartment\n",
        "0.5 - Gated Society Villa\n",
        "0.2 - Studio\n",
        "\n",
        "Классификатор ближайших соседей был запущен при разных значениях параметра k - числа соседей с целью определить оптимальный. Оптимальное число соседей: 25. Ошибка на тестовой выборке при этом параметре: 0.43782582386892566.\n",
        "\n",
        "Данный метод классификации объектов не подходит для данной задачи, т.к ошибка классификации объектов достаточно большая.\n",
        "\n",
        "Классификатор Random Forest дает резальтат на тестовой выборке 82,21%, что гораздо лучше, чем в предыдущем варианте"
      ],
      "metadata": {
        "id": "L4ogVSU-B4Ll"
      }
    },
    {
      "cell_type": "markdown",
      "source": [
        "# Домашнее задание №2\n",
        "Отметим что классификатор RandomForest был нами реализован в прошлом домашнем задании, мы только добавили для него confusion matrix\n",
        "\n",
        "Импортируем все необходимые нам библиотеки"
      ],
      "metadata": {
        "id": "eFUtpds3CjjF"
      }
    },
    {
      "cell_type": "code",
      "source": [
        "from sklearn.linear_model import LogisticRegression\n",
        "from sklearn.metrics import f1_score\n",
        "from sklearn.neural_network import MLPClassifier\n"
      ],
      "metadata": {
        "id": "Phi0V9b_Cn_Q"
      },
      "execution_count": 98,
      "outputs": []
    },
    {
      "cell_type": "markdown",
      "source": [
        "# 1.Random Forest"
      ],
      "metadata": {
        "id": "7EKsPf4TJEg2"
      }
    },
    {
      "cell_type": "code",
      "source": [
        "hidden_layer = np.arange(1, 30)\n",
        "depth = np.arange(1, 30)\n",
        "error_train = []\n",
        "error_test = []\n",
        "for d in depth:\n",
        "    rf_model = RandomForestClassifier(max_depth = d, random_state=0)\n",
        "    rf_model.fit(x_train, y_train)\n",
        "\n",
        "    rf_pred_train = rf_model.predict(x_train)\n",
        "    rf_pred_test = rf_model.predict(x_test)\n",
        "\n",
        "    error_train.append(np.mean(y_train != rf_pred_train))\n",
        "    error_test.append(np.mean(y_test != rf_pred_test))"
      ],
      "metadata": {
        "id": "JsaaoUMjJDgw"
      },
      "execution_count": 254,
      "outputs": []
    },
    {
      "cell_type": "markdown",
      "source": [
        "График зависимости ошибки от количества нейронов:"
      ],
      "metadata": {
        "id": "Fcl5gmFvJ09j"
      }
    },
    {
      "cell_type": "code",
      "source": [
        "plt.plot(hidden_layer, error_train, 'r-o', label = 'train')\n",
        "plt.plot(hidden_layer, error_test, 'b-o', label = 'test')\n",
        "plt.title('error vs. depth')\n",
        "plt.xlabel('depth')\n",
        "plt.ylabel('error')\n",
        "plt.legend()"
      ],
      "metadata": {
        "colab": {
          "base_uri": "https://localhost:8080/",
          "height": 489
        },
        "id": "ZQnXQK8rJ12u",
        "outputId": "5cdd920e-fbc2-49bc-b201-4564fde238ad"
      },
      "execution_count": 255,
      "outputs": [
        {
          "output_type": "execute_result",
          "data": {
            "text/plain": [
              "<matplotlib.legend.Legend at 0x7ee47a423c70>"
            ]
          },
          "metadata": {},
          "execution_count": 255
        },
        {
          "output_type": "display_data",
          "data": {
            "text/plain": [
              "<Figure size 640x480 with 1 Axes>"
            ],
            "image/png": "[encoded data removed]"
          },
          "metadata": {}
        }
      ]
    },
    {
      "cell_type": "markdown",
      "source": [
        "Минимальная ошибка на обучающей и тестовой выборках:"
      ],
      "metadata": {
        "id": "o33vRL9SJ7At"
      }
    },
    {
      "cell_type": "code",
      "source": [
        "min_error_train = np.min(error_train)\n",
        "min_error_test = np.min(error_test)\n",
        "print(\"Минимальная ошибка на обучающей выборке: \", min_error_train)\n",
        "print(\"Минимальная ошибка на тестовой выборке: \", min_error_test)"
      ],
      "metadata": {
        "colab": {
          "base_uri": "https://localhost:8080/"
        },
        "id": "aMHlCWjsJ7nw",
        "outputId": "8f2aaf45-fec2-4fd9-82c3-b3c75dff34ed"
      },
      "execution_count": 256,
      "outputs": [
        {
          "output_type": "stream",
          "name": "stdout",
          "text": [
            "Минимальная ошибка на обучающей выборке:  0.0\n",
            "Минимальная ошибка на тестовой выборке:  0.16370106761565836\n"
          ]
        }
      ]
    },
    {
      "cell_type": "markdown",
      "source": [
        "Максимальная глубина дерева, при достижении наименьшей ошибки:"
      ],
      "metadata": {
        "id": "gPrprAwEKE1I"
      }
    },
    {
      "cell_type": "code",
      "source": [
        "opt_dep = depth[error_test == min_error_test]\n",
        "print(opt_dep)"
      ],
      "metadata": {
        "colab": {
          "base_uri": "https://localhost:8080/"
        },
        "id": "-kHn38IaKFbw",
        "outputId": "81c09ac0-97d1-4ca7-8293-add2297ea566"
      },
      "execution_count": 257,
      "outputs": [
        {
          "output_type": "stream",
          "name": "stdout",
          "text": [
            "[18 19]\n"
          ]
        }
      ]
    },
    {
      "cell_type": "markdown",
      "source": [
        "Оценка точности"
      ],
      "metadata": {
        "id": "2rOFvHdHhLfL"
      }
    },
    {
      "cell_type": "code",
      "source": [
        "rf_acc = accuracy_score(y_test, rf_pred_test)\n",
        "print(\"The training accuracy for Random Forest is:\", round(rf_model.score(x_train, y_train)*100,2), \"%\")\n",
        "print(\"The testing accuracy for Random Forest is:\", round(rf_acc * 100,2), \"%\")"
      ],
      "metadata": {
        "colab": {
          "base_uri": "https://localhost:8080/"
        },
        "id": "gCTC5HDlhOdB",
        "outputId": "ab2387ad-a2a2-43b0-b526-8804ed9ffebe"
      },
      "execution_count": 258,
      "outputs": [
        {
          "output_type": "stream",
          "name": "stdout",
          "text": [
            "The training accuracy for Random Forest is: 100.0 %\n",
            "The testing accuracy for Random Forest is: 82.92 %\n"
          ]
        }
      ]
    },
    {
      "cell_type": "markdown",
      "source": [
        "Матрица несоответствий"
      ],
      "metadata": {
        "id": "SHrJZL37r4X0"
      }
    },
    {
      "cell_type": "code",
      "source": [
        "ConfusionMatrixDisplay.from_estimator(rf_model, x_test, y_test, cmap=plt.cm.Blues)"
      ],
      "metadata": {
        "colab": {
          "base_uri": "https://localhost:8080/",
          "height": 466
        },
        "id": "Z_yZfRxVr40_",
        "outputId": "a88a4c12-ecd8-4106-a694-d8db4962d34a"
      },
      "execution_count": 260,
      "outputs": [
        {
          "output_type": "execute_result",
          "data": {
            "text/plain": [
              "<sklearn.metrics._plot.confusion_matrix.ConfusionMatrixDisplay at 0x7ee47a421cf0>"
            ]
          },
          "metadata": {},
          "execution_count": 260
        },
        {
          "output_type": "display_data",
          "data": {
            "text/plain": [
              "<Figure size 640x480 with 2 Axes>"
            ],
            "image/png": "[encoded data removed]"
          },
          "metadata": {}
        }
      ]
    },
    {
      "cell_type": "markdown",
      "source": [
        "Модель определила:\n",
        "*   3 объекта Apartment, которые действительно были Apartment\n",
        "*   154 объекта Gated Society Apartment, 129 из которых действительно были Gated Society Apartment\n",
        "*   1 объекта Gated Society Villa, который действительно был Gated Society Villa\n",
        "*   292 объектов Independent Apartment, 245 из которых действительно были Independent Apartment\n",
        "*   109 объектов Independent House, 85 из которых действительно были Independent House\n",
        "*   3 объекта Independent Villa, которые действительно были Independent Villa"
      ],
      "metadata": {
        "id": "0DztwTG_wSUh"
      }
    },
    {
      "cell_type": "markdown",
      "source": [
        "# 2.Логистическая регрессия"
      ],
      "metadata": {
        "id": "MkJToO9QCqw-"
      }
    },
    {
      "cell_type": "code",
      "source": [
        "error_train = []\n",
        "error_test = []\n",
        "lr_model = LogisticRegression(solver='newton-cholesky', max_iter=10000)\n",
        "lr_model.fit(x_train, y_train)\n",
        "lr_pred_train = lr_model.predict(x_train)\n",
        "lr_pred_test = lr_model.predict(x_test)\n",
        "\n",
        "error_train = np.mean(y_train != lr_pred_train)\n",
        "error_test = np.mean(y_test  != lr_pred_test)\n",
        "\n",
        "print(\"Ошибка на обучающей выборке: \", error_train)\n",
        "print(\"Ошибка на тестовой выборке: \", error_test)"
      ],
      "metadata": {
        "colab": {
          "base_uri": "https://localhost:8080/"
        },
        "id": "J_CJQoRPDAii",
        "outputId": "7b8d0160-5e8c-4469-b031-cd846dcc07a9"
      },
      "execution_count": 228,
      "outputs": [
        {
          "output_type": "stream",
          "name": "stdout",
          "text": [
            "Ошибка на обучающей выборке:  0.3707093821510298\n",
            "Ошибка на тестовой выборке:  0.37544483985765126\n"
          ]
        }
      ]
    },
    {
      "cell_type": "markdown",
      "source": [
        "Оценка точности"
      ],
      "metadata": {
        "id": "A7Mag7U5jkw2"
      }
    },
    {
      "cell_type": "code",
      "source": [
        "lr_acc = accuracy_score(y_test, lr_pred_test)\n",
        "print(\"The training accuracy for Logistic Regression is:\", round(lr_model.score(x_train, y_train)*100), \"%\")\n",
        "print(\"The testing accuracy for Logistic Regression is:\", round(lr_acc * 100), \"%\")"
      ],
      "metadata": {
        "colab": {
          "base_uri": "https://localhost:8080/"
        },
        "id": "qED4bI2mjlX_",
        "outputId": "7295ec64-9819-417b-eaf3-b77c31bcc358"
      },
      "execution_count": 230,
      "outputs": [
        {
          "output_type": "stream",
          "name": "stdout",
          "text": [
            "The training accuracy for Logistic Regression is: 63 %\n",
            "The testing accuracy for Logistic Regression is: 62 %\n"
          ]
        }
      ]
    },
    {
      "cell_type": "markdown",
      "source": [
        "Матрица несоответствий"
      ],
      "metadata": {
        "id": "dAfDNvvrr2_V"
      }
    },
    {
      "cell_type": "code",
      "source": [
        "ConfusionMatrixDisplay.from_estimator(lr_model, x_test, y_test, cmap=plt.cm.Blues)"
      ],
      "metadata": {
        "colab": {
          "base_uri": "https://localhost:8080/",
          "height": 466
        },
        "id": "31QpoOv4FJEa",
        "outputId": "9d8ce653-f330-46d7-9313-5cd272131ab7"
      },
      "execution_count": 231,
      "outputs": [
        {
          "output_type": "execute_result",
          "data": {
            "text/plain": [
              "<sklearn.metrics._plot.confusion_matrix.ConfusionMatrixDisplay at 0x7ee47ba58b20>"
            ]
          },
          "metadata": {},
          "execution_count": 231
        },
        {
          "output_type": "display_data",
          "data": {
            "text/plain": [
              "<Figure size 640x480 with 2 Axes>"
            ],
            "image/png": "[encoded data removed]"
          },
          "metadata": {}
        }
      ]
    },
    {
      "cell_type": "markdown",
      "source": [
        "В модели заметно увеличись показатели FP (классификатор неверно относит объекты к рассматриваемому классу)\n",
        "\n",
        "По Apartment, Gated Society Villaи Independent Villa показатели пропали\n"
      ],
      "metadata": {
        "id": "HeeNrU-w7Rpm"
      }
    },
    {
      "cell_type": "markdown",
      "source": [
        "# 3.Полносвязная нейронная сеть c 1-м скрытым слоем"
      ],
      "metadata": {
        "id": "-_VfSGFDHE1q"
      }
    },
    {
      "cell_type": "code",
      "source": [
        "hidden_layer = np.arange(1, 100, 2)\n",
        "error_train = []\n",
        "error_test = []\n",
        "for neu in hidden_layer:\n",
        "    mlp_model = MLPClassifier(hidden_layer_sizes = (neu, ),\n",
        "                          solver='adam',\n",
        "                          activation='relu',\n",
        "                          max_iter=1000,\n",
        "                          random_state = 12432)\n",
        "    mlp_model.fit(x_train, y_train)\n",
        "\n",
        "    mlp_pred_train = mlp_model.predict(x_train)\n",
        "    mlp_pred_test = mlp_model.predict(x_test)\n",
        "    error_train.append(np.mean(y_train != mlp_pred_train))\n",
        "    error_test.append(np.mean(y_test != mlp_pred_test))"
      ],
      "metadata": {
        "id": "xA-l1Sa3HFao"
      },
      "execution_count": 245,
      "outputs": []
    },
    {
      "cell_type": "markdown",
      "source": [
        "График зависимости ошибки от количества нейронов:"
      ],
      "metadata": {
        "id": "Fz9ZeYXYLIo6"
      }
    },
    {
      "cell_type": "code",
      "source": [
        "plt.plot(hidden_layer, error_train, 'r-o', label = 'train')\n",
        "plt.plot(hidden_layer, error_test, 'b-o', label = 'test')\n",
        "plt.title('error vs. neurons count')\n",
        "plt.xlabel('neurons count')\n",
        "plt.ylabel('error')\n",
        "plt.legend()"
      ],
      "metadata": {
        "colab": {
          "base_uri": "https://localhost:8080/",
          "height": 489
        },
        "id": "l5PBpkV0LJrG",
        "outputId": "7f91a931-3170-4048-c0ea-50091a8453e6"
      },
      "execution_count": 246,
      "outputs": [
        {
          "output_type": "execute_result",
          "data": {
            "text/plain": [
              "<matplotlib.legend.Legend at 0x7ee47a7d4460>"
            ]
          },
          "metadata": {},
          "execution_count": 246
        },
        {
          "output_type": "display_data",
          "data": {
            "text/plain": [
              "<Figure size 640x480 with 1 Axes>"
            ],
            "image/png": "[encoded data removed]"
          },
          "metadata": {}
        }
      ]
    },
    {
      "cell_type": "markdown",
      "source": [
        "Минимальная ошибка на обучающей и тестовой выборке"
      ],
      "metadata": {
        "id": "b8rRzgMoGFIq"
      }
    },
    {
      "cell_type": "code",
      "source": [
        "min_error_train = np.min(error_train)\n",
        "min_error_test = np.min(error_test)\n",
        "print(\"Минимальная ошибка на обучающей выборке: \", min_error_train)\n",
        "print(\"Минимальная ошибка на тестовой выборке: \", min_error_test)"
      ],
      "metadata": {
        "colab": {
          "base_uri": "https://localhost:8080/"
        },
        "id": "mCsAriexGH_V",
        "outputId": "40857f89-b898-4dad-8e85-a3c88c801dbb"
      },
      "execution_count": 247,
      "outputs": [
        {
          "output_type": "stream",
          "name": "stdout",
          "text": [
            "Минимальная ошибка на обучающей выборке:  0.4881769641495042\n",
            "Минимальная ошибка на тестовой выборке:  0.44661921708185054\n"
          ]
        }
      ]
    },
    {
      "cell_type": "markdown",
      "source": [
        "Количество нейронов для достижения наименьше ошибки"
      ],
      "metadata": {
        "id": "jRO7W5AzG2k_"
      }
    },
    {
      "cell_type": "code",
      "source": [
        "opt_neuron = hidden_layer[error_test == min_error_test]\n",
        "print(opt_neuron)"
      ],
      "metadata": {
        "colab": {
          "base_uri": "https://localhost:8080/"
        },
        "id": "MP-gFYChG7Ht",
        "outputId": "b7442396-36b3-4f4a-c4f6-ecfec54b15c3"
      },
      "execution_count": 248,
      "outputs": [
        {
          "output_type": "stream",
          "name": "stdout",
          "text": [
            "[89]\n"
          ]
        }
      ]
    },
    {
      "cell_type": "markdown",
      "source": [
        "Наименьшая ошибка в тестовой выборке достигается при 18 нейронах в слое"
      ],
      "metadata": {
        "id": "ofgUQV6goFds"
      }
    },
    {
      "cell_type": "markdown",
      "source": [
        "Оценка точности"
      ],
      "metadata": {
        "id": "0UcjGZIQn-Tc"
      }
    },
    {
      "cell_type": "code",
      "source": [
        "mlp_acc = accuracy_score(y_test, mlp_pred_test)\n",
        "print(\"The training accuracy for Logistic Regression is:\", round(mlp_model.score(x_train, y_train)*100), \"%\")\n",
        "print(\"The testing accuracy for Logistic Regression is:\", round(mlp_acc * 100), \"%\")"
      ],
      "metadata": {
        "colab": {
          "base_uri": "https://localhost:8080/"
        },
        "id": "Xi6uk5DFn_yv",
        "outputId": "a1ebe5c3-b42e-4c38-c6fa-d62d8d84fa24"
      },
      "execution_count": 249,
      "outputs": [
        {
          "output_type": "stream",
          "name": "stdout",
          "text": [
            "The training accuracy for Logistic Regression is: 50 %\n",
            "The testing accuracy for Logistic Regression is: 51 %\n"
          ]
        }
      ]
    },
    {
      "cell_type": "markdown",
      "source": [
        "Матрица несоответствий"
      ],
      "metadata": {
        "id": "jv7eaXy3o9Vj"
      }
    },
    {
      "cell_type": "code",
      "source": [
        "ConfusionMatrixDisplay.from_estimator(mlp_model, x_test, y_test, cmap=plt.cm.Blues)"
      ],
      "metadata": {
        "colab": {
          "base_uri": "https://localhost:8080/",
          "height": 466
        },
        "id": "ug0qjyUDHLp0",
        "outputId": "6fc1e66c-106e-4e3d-f54c-02f564183a8e"
      },
      "execution_count": 250,
      "outputs": [
        {
          "output_type": "execute_result",
          "data": {
            "text/plain": [
              "<sklearn.metrics._plot.confusion_matrix.ConfusionMatrixDisplay at 0x7ee484449a80>"
            ]
          },
          "metadata": {},
          "execution_count": 250
        },
        {
          "output_type": "display_data",
          "data": {
            "text/plain": [
              "<Figure size 640x480 with 2 Axes>"
            ],
            "image/png": "[encoded data removed]"
          },
          "metadata": {}
        }
      ]
    },
    {
      "cell_type": "markdown",
      "source": [
        "Увеличились показатели FP для всех классов, кроме того, по некоторым классам они стали превосходить показатели TP\n",
        "\n",
        "Теперь Во всех классах, кроме самых многочисленных TP меньше всех остальных метрик\n",
        "\n",
        "# Выводы\n",
        "\n",
        "Сравним ошибки на тестовых выборках у рассмотренных классификаторов:\n",
        "\n",
        "рандомный лес: 0.16370106761565836\n",
        "\n",
        "логистическая регрессия: 0.37544483985765126\n",
        "\n",
        "полносвязная нейронная сеть: 0.44661921708185054\n",
        "\n",
        "Наименьшая ошибка на тестовой выборке наблюдается у рандомного леса.\n",
        "\n",
        "Сравним наглядно матрицы несоответствия:"
      ],
      "metadata": {
        "id": "70A2r87IHZpf"
      }
    },
    {
      "cell_type": "code",
      "source": [
        "disp3 = ConfusionMatrixDisplay.from_estimator(rf_model, x_test, y_test, cmap=plt.cm.Blues)\n",
        "disp3.ax_.set_title(\"random forest\")\n",
        "\n",
        "disp2 = ConfusionMatrixDisplay.from_estimator(lr_model, x_test, y_test, cmap=plt.cm.Blues)\n",
        "disp2.ax_.set_title(\"лог.регрессия\")\n",
        "\n",
        "disp4 = ConfusionMatrixDisplay.from_estimator(mlp_model, x_test, y_test, cmap=plt.cm.Blues)\n",
        "disp4.ax_.set_title(\"полносвязная нейронная сеть\")"
      ],
      "metadata": {
        "colab": {
          "base_uri": "https://localhost:8080/",
          "height": 1000
        },
        "id": "05sKx1uQHbvy",
        "outputId": "dd5ca39b-b961-4b9b-ab93-147bc46556f5"
      },
      "execution_count": 261,
      "outputs": [
        {
          "output_type": "execute_result",
          "data": {
            "text/plain": [
              "Text(0.5, 1.0, 'полносвязная нейронная сеть')"
            ]
          },
          "metadata": {},
          "execution_count": 261
        },
        {
          "output_type": "display_data",
          "data": {
            "text/plain": [
              "<Figure size 640x480 with 2 Axes>"
            ],
            "image/png": "[encoded data removed]"
          },
          "metadata": {}
        },
        {
          "output_type": "display_data",
          "data": {
            "text/plain": [
              "<Figure size 640x480 with 2 Axes>"
            ],
            "image/png": "[encoded data removed]"
          },
          "metadata": {}
        },
        {
          "output_type": "display_data",
          "data": {
            "text/plain": [
              "<Figure size 640x480 with 2 Axes>"
            ],
            "image/png": "[encoded data removed]"
          },
          "metadata": {}
        }
      ]
    },
    {
      "cell_type": "markdown",
      "source": [
        "Рандомный лес лучше других рассмотренных классификаторов с большей точностью определяет те типы домов, к которым они действительно принадлежат (true positive)\n",
        "\n",
        "Принадлежащие к классу типы определаются в rf с точностью\n",
        "Pressision :\n",
        "1/6(1+129/154+1+245/292+85/109+1) = 0.91\n",
        "\n",
        "В логистической регрессии - 0.63\n",
        "В полносвязной нейронной сети - 0.51\n",
        "\n",
        "\n"
      ],
      "metadata": {
        "id": "lm4i0NLLIfpx"
      }
    }
  ]
}